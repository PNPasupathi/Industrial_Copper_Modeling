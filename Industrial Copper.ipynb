{
 "cells": [
  {
   "cell_type": "markdown",
   "id": "be5d3fa4",
   "metadata": {},
   "source": [
    "### Import the Libraries"
   ]
  },
  {
   "cell_type": "code",
   "execution_count": 1,
   "id": "3d2e9b28",
   "metadata": {},
   "outputs": [],
   "source": [
    "import pandas as pd\n",
    "import numpy as np\n",
    "import statistics as stats\n",
    "import matplotlib.pyplot as plt\n",
    "import seaborn as sns\n",
    "import warnings\n",
    "warnings.filterwarnings('ignore')"
   ]
  },
  {
   "cell_type": "markdown",
   "id": "bacf8749",
   "metadata": {},
   "source": [
    "### Read the Data"
   ]
  },
  {
   "cell_type": "code",
   "execution_count": 2,
   "id": "576755db",
   "metadata": {},
   "outputs": [],
   "source": [
    "df=pd.read_csv(r'E:\\DATASETS\\Copper_Set.csv')"
   ]
  },
  {
   "cell_type": "markdown",
   "id": "0d9185f8",
   "metadata": {},
   "source": [
    "### View Top 5 Records"
   ]
  },
  {
   "cell_type": "code",
   "execution_count": 3,
   "id": "645ac5f0",
   "metadata": {},
   "outputs": [
    {
     "data": {
      "text/html": [
       "<div>\n",
       "<style scoped>\n",
       "    .dataframe tbody tr th:only-of-type {\n",
       "        vertical-align: middle;\n",
       "    }\n",
       "\n",
       "    .dataframe tbody tr th {\n",
       "        vertical-align: top;\n",
       "    }\n",
       "\n",
       "    .dataframe thead th {\n",
       "        text-align: right;\n",
       "    }\n",
       "</style>\n",
       "<table border=\"1\" class=\"dataframe\">\n",
       "  <thead>\n",
       "    <tr style=\"text-align: right;\">\n",
       "      <th></th>\n",
       "      <th>id</th>\n",
       "      <th>item_date</th>\n",
       "      <th>quantity tons</th>\n",
       "      <th>customer</th>\n",
       "      <th>country</th>\n",
       "      <th>status</th>\n",
       "      <th>item type</th>\n",
       "      <th>application</th>\n",
       "      <th>thickness</th>\n",
       "      <th>width</th>\n",
       "      <th>material_ref</th>\n",
       "      <th>product_ref</th>\n",
       "      <th>delivery date</th>\n",
       "      <th>selling_price</th>\n",
       "    </tr>\n",
       "  </thead>\n",
       "  <tbody>\n",
       "    <tr>\n",
       "      <th>0</th>\n",
       "      <td>EC06F063-9DF0-440C-8764-0B0C05A4F6AE</td>\n",
       "      <td>20210401.0</td>\n",
       "      <td>54.151139</td>\n",
       "      <td>30156308.0</td>\n",
       "      <td>28.0</td>\n",
       "      <td>Won</td>\n",
       "      <td>W</td>\n",
       "      <td>10.0</td>\n",
       "      <td>2.00</td>\n",
       "      <td>1500.0</td>\n",
       "      <td>DEQ1 S460MC</td>\n",
       "      <td>1670798778</td>\n",
       "      <td>20210701.0</td>\n",
       "      <td>854.00</td>\n",
       "    </tr>\n",
       "    <tr>\n",
       "      <th>1</th>\n",
       "      <td>4E5F4B3D-DDDF-499D-AFDE-A3227EC49425</td>\n",
       "      <td>20210401.0</td>\n",
       "      <td>768.024839</td>\n",
       "      <td>30202938.0</td>\n",
       "      <td>25.0</td>\n",
       "      <td>Won</td>\n",
       "      <td>W</td>\n",
       "      <td>41.0</td>\n",
       "      <td>0.80</td>\n",
       "      <td>1210.0</td>\n",
       "      <td>0000000000000000000000000000000000104991</td>\n",
       "      <td>1668701718</td>\n",
       "      <td>20210401.0</td>\n",
       "      <td>1047.00</td>\n",
       "    </tr>\n",
       "    <tr>\n",
       "      <th>2</th>\n",
       "      <td>E140FF1B-2407-4C02-A0DD-780A093B1158</td>\n",
       "      <td>20210401.0</td>\n",
       "      <td>386.127949</td>\n",
       "      <td>30153963.0</td>\n",
       "      <td>30.0</td>\n",
       "      <td>Won</td>\n",
       "      <td>WI</td>\n",
       "      <td>28.0</td>\n",
       "      <td>0.38</td>\n",
       "      <td>952.0</td>\n",
       "      <td>S0380700</td>\n",
       "      <td>628377</td>\n",
       "      <td>20210101.0</td>\n",
       "      <td>644.33</td>\n",
       "    </tr>\n",
       "    <tr>\n",
       "      <th>3</th>\n",
       "      <td>F8D507A0-9C62-4EFE-831E-33E1DA53BB50</td>\n",
       "      <td>20210401.0</td>\n",
       "      <td>202.411065</td>\n",
       "      <td>30349574.0</td>\n",
       "      <td>32.0</td>\n",
       "      <td>Won</td>\n",
       "      <td>S</td>\n",
       "      <td>59.0</td>\n",
       "      <td>2.30</td>\n",
       "      <td>1317.0</td>\n",
       "      <td>DX51D+ZM310MAO 2.3X1317</td>\n",
       "      <td>1668701718</td>\n",
       "      <td>20210101.0</td>\n",
       "      <td>768.00</td>\n",
       "    </tr>\n",
       "    <tr>\n",
       "      <th>4</th>\n",
       "      <td>4E1C4E78-152B-430A-8094-ADD889C9D0AD</td>\n",
       "      <td>20210401.0</td>\n",
       "      <td>785.526262</td>\n",
       "      <td>30211560.0</td>\n",
       "      <td>28.0</td>\n",
       "      <td>Won</td>\n",
       "      <td>W</td>\n",
       "      <td>10.0</td>\n",
       "      <td>4.00</td>\n",
       "      <td>2000.0</td>\n",
       "      <td>2_S275JR+AR-CL1</td>\n",
       "      <td>640665</td>\n",
       "      <td>20210301.0</td>\n",
       "      <td>577.00</td>\n",
       "    </tr>\n",
       "  </tbody>\n",
       "</table>\n",
       "</div>"
      ],
      "text/plain": [
       "                                     id   item_date quantity tons    customer  \\\n",
       "0  EC06F063-9DF0-440C-8764-0B0C05A4F6AE  20210401.0     54.151139  30156308.0   \n",
       "1  4E5F4B3D-DDDF-499D-AFDE-A3227EC49425  20210401.0    768.024839  30202938.0   \n",
       "2  E140FF1B-2407-4C02-A0DD-780A093B1158  20210401.0    386.127949  30153963.0   \n",
       "3  F8D507A0-9C62-4EFE-831E-33E1DA53BB50  20210401.0    202.411065  30349574.0   \n",
       "4  4E1C4E78-152B-430A-8094-ADD889C9D0AD  20210401.0    785.526262  30211560.0   \n",
       "\n",
       "   country status item type  application  thickness   width  \\\n",
       "0     28.0    Won         W         10.0       2.00  1500.0   \n",
       "1     25.0    Won         W         41.0       0.80  1210.0   \n",
       "2     30.0    Won        WI         28.0       0.38   952.0   \n",
       "3     32.0    Won         S         59.0       2.30  1317.0   \n",
       "4     28.0    Won         W         10.0       4.00  2000.0   \n",
       "\n",
       "                               material_ref  product_ref  delivery date  \\\n",
       "0                               DEQ1 S460MC   1670798778     20210701.0   \n",
       "1  0000000000000000000000000000000000104991   1668701718     20210401.0   \n",
       "2                                  S0380700       628377     20210101.0   \n",
       "3                   DX51D+ZM310MAO 2.3X1317   1668701718     20210101.0   \n",
       "4                           2_S275JR+AR-CL1       640665     20210301.0   \n",
       "\n",
       "   selling_price  \n",
       "0         854.00  \n",
       "1        1047.00  \n",
       "2         644.33  \n",
       "3         768.00  \n",
       "4         577.00  "
      ]
     },
     "execution_count": 3,
     "metadata": {},
     "output_type": "execute_result"
    }
   ],
   "source": [
    "df.head()"
   ]
  },
  {
   "cell_type": "markdown",
   "id": "4c6a3fb5",
   "metadata": {},
   "source": [
    "### Shape of the Dataset"
   ]
  },
  {
   "cell_type": "code",
   "execution_count": 4,
   "id": "6ade1fee",
   "metadata": {},
   "outputs": [
    {
     "data": {
      "text/plain": [
       "(181673, 14)"
      ]
     },
     "execution_count": 4,
     "metadata": {},
     "output_type": "execute_result"
    }
   ],
   "source": [
    "df.shape"
   ]
  },
  {
   "cell_type": "code",
   "execution_count": 5,
   "id": "ca3f2fdf",
   "metadata": {},
   "outputs": [],
   "source": [
    "df=df.drop(columns=df[['id','material_ref']])"
   ]
  },
  {
   "cell_type": "code",
   "execution_count": 6,
   "id": "75bcf55c",
   "metadata": {},
   "outputs": [
    {
     "data": {
      "text/html": [
       "<div>\n",
       "<style scoped>\n",
       "    .dataframe tbody tr th:only-of-type {\n",
       "        vertical-align: middle;\n",
       "    }\n",
       "\n",
       "    .dataframe tbody tr th {\n",
       "        vertical-align: top;\n",
       "    }\n",
       "\n",
       "    .dataframe thead th {\n",
       "        text-align: right;\n",
       "    }\n",
       "</style>\n",
       "<table border=\"1\" class=\"dataframe\">\n",
       "  <thead>\n",
       "    <tr style=\"text-align: right;\">\n",
       "      <th></th>\n",
       "      <th>item_date</th>\n",
       "      <th>quantity tons</th>\n",
       "      <th>customer</th>\n",
       "      <th>country</th>\n",
       "      <th>status</th>\n",
       "      <th>item type</th>\n",
       "      <th>application</th>\n",
       "      <th>thickness</th>\n",
       "      <th>width</th>\n",
       "      <th>product_ref</th>\n",
       "      <th>delivery date</th>\n",
       "      <th>selling_price</th>\n",
       "    </tr>\n",
       "  </thead>\n",
       "  <tbody>\n",
       "    <tr>\n",
       "      <th>0</th>\n",
       "      <td>20210401.0</td>\n",
       "      <td>54.151139</td>\n",
       "      <td>30156308.0</td>\n",
       "      <td>28.0</td>\n",
       "      <td>Won</td>\n",
       "      <td>W</td>\n",
       "      <td>10.0</td>\n",
       "      <td>2.00</td>\n",
       "      <td>1500.0</td>\n",
       "      <td>1670798778</td>\n",
       "      <td>20210701.0</td>\n",
       "      <td>854.00</td>\n",
       "    </tr>\n",
       "    <tr>\n",
       "      <th>1</th>\n",
       "      <td>20210401.0</td>\n",
       "      <td>768.024839</td>\n",
       "      <td>30202938.0</td>\n",
       "      <td>25.0</td>\n",
       "      <td>Won</td>\n",
       "      <td>W</td>\n",
       "      <td>41.0</td>\n",
       "      <td>0.80</td>\n",
       "      <td>1210.0</td>\n",
       "      <td>1668701718</td>\n",
       "      <td>20210401.0</td>\n",
       "      <td>1047.00</td>\n",
       "    </tr>\n",
       "    <tr>\n",
       "      <th>2</th>\n",
       "      <td>20210401.0</td>\n",
       "      <td>386.127949</td>\n",
       "      <td>30153963.0</td>\n",
       "      <td>30.0</td>\n",
       "      <td>Won</td>\n",
       "      <td>WI</td>\n",
       "      <td>28.0</td>\n",
       "      <td>0.38</td>\n",
       "      <td>952.0</td>\n",
       "      <td>628377</td>\n",
       "      <td>20210101.0</td>\n",
       "      <td>644.33</td>\n",
       "    </tr>\n",
       "    <tr>\n",
       "      <th>3</th>\n",
       "      <td>20210401.0</td>\n",
       "      <td>202.411065</td>\n",
       "      <td>30349574.0</td>\n",
       "      <td>32.0</td>\n",
       "      <td>Won</td>\n",
       "      <td>S</td>\n",
       "      <td>59.0</td>\n",
       "      <td>2.30</td>\n",
       "      <td>1317.0</td>\n",
       "      <td>1668701718</td>\n",
       "      <td>20210101.0</td>\n",
       "      <td>768.00</td>\n",
       "    </tr>\n",
       "    <tr>\n",
       "      <th>4</th>\n",
       "      <td>20210401.0</td>\n",
       "      <td>785.526262</td>\n",
       "      <td>30211560.0</td>\n",
       "      <td>28.0</td>\n",
       "      <td>Won</td>\n",
       "      <td>W</td>\n",
       "      <td>10.0</td>\n",
       "      <td>4.00</td>\n",
       "      <td>2000.0</td>\n",
       "      <td>640665</td>\n",
       "      <td>20210301.0</td>\n",
       "      <td>577.00</td>\n",
       "    </tr>\n",
       "  </tbody>\n",
       "</table>\n",
       "</div>"
      ],
      "text/plain": [
       "    item_date quantity tons    customer  country status item type  \\\n",
       "0  20210401.0     54.151139  30156308.0     28.0    Won         W   \n",
       "1  20210401.0    768.024839  30202938.0     25.0    Won         W   \n",
       "2  20210401.0    386.127949  30153963.0     30.0    Won        WI   \n",
       "3  20210401.0    202.411065  30349574.0     32.0    Won         S   \n",
       "4  20210401.0    785.526262  30211560.0     28.0    Won         W   \n",
       "\n",
       "   application  thickness   width  product_ref  delivery date  selling_price  \n",
       "0         10.0       2.00  1500.0   1670798778     20210701.0         854.00  \n",
       "1         41.0       0.80  1210.0   1668701718     20210401.0        1047.00  \n",
       "2         28.0       0.38   952.0       628377     20210101.0         644.33  \n",
       "3         59.0       2.30  1317.0   1668701718     20210101.0         768.00  \n",
       "4         10.0       4.00  2000.0       640665     20210301.0         577.00  "
      ]
     },
     "execution_count": 6,
     "metadata": {},
     "output_type": "execute_result"
    }
   ],
   "source": [
    "df.head()"
   ]
  },
  {
   "cell_type": "markdown",
   "id": "702880ab",
   "metadata": {},
   "source": [
    "### Check null Value"
   ]
  },
  {
   "cell_type": "code",
   "execution_count": 7,
   "id": "0259a71e",
   "metadata": {},
   "outputs": [
    {
     "data": {
      "text/plain": [
       "item_date         1\n",
       "quantity tons     0\n",
       "customer          1\n",
       "country          28\n",
       "status            2\n",
       "item type         0\n",
       "application      24\n",
       "thickness         1\n",
       "width             0\n",
       "product_ref       0\n",
       "delivery date     1\n",
       "selling_price     1\n",
       "dtype: int64"
      ]
     },
     "execution_count": 7,
     "metadata": {},
     "output_type": "execute_result"
    }
   ],
   "source": [
    "df.isnull().sum()"
   ]
  },
  {
   "cell_type": "code",
   "execution_count": 8,
   "id": "fa819738",
   "metadata": {},
   "outputs": [],
   "source": [
    "df=df.dropna()"
   ]
  },
  {
   "cell_type": "code",
   "execution_count": 9,
   "id": "3ab2a9b8",
   "metadata": {},
   "outputs": [
    {
     "data": {
      "text/plain": [
       "item_date        0\n",
       "quantity tons    0\n",
       "customer         0\n",
       "country          0\n",
       "status           0\n",
       "item type        0\n",
       "application      0\n",
       "thickness        0\n",
       "width            0\n",
       "product_ref      0\n",
       "delivery date    0\n",
       "selling_price    0\n",
       "dtype: int64"
      ]
     },
     "execution_count": 9,
     "metadata": {},
     "output_type": "execute_result"
    }
   ],
   "source": [
    "df.isnull().sum()"
   ]
  },
  {
   "cell_type": "code",
   "execution_count": 10,
   "id": "4da73dde",
   "metadata": {},
   "outputs": [
    {
     "data": {
      "text/plain": [
       "(181638, 12)"
      ]
     },
     "execution_count": 10,
     "metadata": {},
     "output_type": "execute_result"
    }
   ],
   "source": [
    "df.shape"
   ]
  },
  {
   "cell_type": "markdown",
   "id": "39d59ebc",
   "metadata": {},
   "source": [
    "### Check Duplicate Values"
   ]
  },
  {
   "cell_type": "code",
   "execution_count": 11,
   "id": "997666d3",
   "metadata": {},
   "outputs": [
    {
     "data": {
      "text/plain": [
       "0"
      ]
     },
     "execution_count": 11,
     "metadata": {},
     "output_type": "execute_result"
    }
   ],
   "source": [
    "df.duplicated().sum()"
   ]
  },
  {
   "cell_type": "markdown",
   "id": "77cad7a7",
   "metadata": {},
   "source": [
    "### EDA - Exploratory Data Analysis"
   ]
  },
  {
   "cell_type": "code",
   "execution_count": 12,
   "id": "82d59653",
   "metadata": {},
   "outputs": [
    {
     "name": "stdout",
     "output_type": "stream",
     "text": [
      "<class 'pandas.core.frame.DataFrame'>\n",
      "Int64Index: 181638 entries, 0 to 181672\n",
      "Data columns (total 12 columns):\n",
      " #   Column         Non-Null Count   Dtype  \n",
      "---  ------         --------------   -----  \n",
      " 0   item_date      181638 non-null  float64\n",
      " 1   quantity tons  181638 non-null  object \n",
      " 2   customer       181638 non-null  float64\n",
      " 3   country        181638 non-null  float64\n",
      " 4   status         181638 non-null  object \n",
      " 5   item type      181638 non-null  object \n",
      " 6   application    181638 non-null  float64\n",
      " 7   thickness      181638 non-null  float64\n",
      " 8   width          181638 non-null  float64\n",
      " 9   product_ref    181638 non-null  int64  \n",
      " 10  delivery date  181638 non-null  float64\n",
      " 11  selling_price  181638 non-null  float64\n",
      "dtypes: float64(8), int64(1), object(3)\n",
      "memory usage: 18.0+ MB\n"
     ]
    }
   ],
   "source": [
    "df.info()"
   ]
  },
  {
   "cell_type": "code",
   "execution_count": 13,
   "id": "3dc7d66f",
   "metadata": {},
   "outputs": [
    {
     "name": "stdout",
     "output_type": "stream",
     "text": [
      "Median : 30.36257954\n"
     ]
    }
   ],
   "source": [
    "# quantity tons data type is float. \n",
    "# change the data type obj to float\n",
    "\n",
    "df['quantity tons']=df['quantity tons'].replace('e',np.nan)\n",
    "df['quantity tons']=df['quantity tons'].astype('float')\n",
    "print('Median :',df['quantity tons'].median())\n",
    "df['quantity tons']=df['quantity tons'].fillna(30.36395321)"
   ]
  },
  {
   "cell_type": "code",
   "execution_count": 14,
   "id": "8de62551",
   "metadata": {},
   "outputs": [
    {
     "name": "stdout",
     "output_type": "stream",
     "text": [
      "<class 'pandas.core.frame.DataFrame'>\n",
      "Int64Index: 181638 entries, 0 to 181672\n",
      "Data columns (total 12 columns):\n",
      " #   Column         Non-Null Count   Dtype  \n",
      "---  ------         --------------   -----  \n",
      " 0   item_date      181638 non-null  float64\n",
      " 1   quantity tons  181638 non-null  float64\n",
      " 2   customer       181638 non-null  float64\n",
      " 3   country        181638 non-null  float64\n",
      " 4   status         181638 non-null  object \n",
      " 5   item type      181638 non-null  object \n",
      " 6   application    181638 non-null  float64\n",
      " 7   thickness      181638 non-null  float64\n",
      " 8   width          181638 non-null  float64\n",
      " 9   product_ref    181638 non-null  int64  \n",
      " 10  delivery date  181638 non-null  float64\n",
      " 11  selling_price  181638 non-null  float64\n",
      "dtypes: float64(9), int64(1), object(2)\n",
      "memory usage: 18.0+ MB\n"
     ]
    }
   ],
   "source": [
    "df.info()"
   ]
  },
  {
   "cell_type": "code",
   "execution_count": 15,
   "id": "aa073c79",
   "metadata": {},
   "outputs": [
    {
     "data": {
      "text/plain": [
       "item_date        0\n",
       "quantity tons    0\n",
       "customer         0\n",
       "country          0\n",
       "status           0\n",
       "item type        0\n",
       "application      0\n",
       "thickness        0\n",
       "width            0\n",
       "product_ref      0\n",
       "delivery date    0\n",
       "selling_price    0\n",
       "dtype: int64"
      ]
     },
     "execution_count": 15,
     "metadata": {},
     "output_type": "execute_result"
    }
   ],
   "source": [
    "df.isnull().sum()"
   ]
  },
  {
   "cell_type": "code",
   "execution_count": 16,
   "id": "770cfea7",
   "metadata": {},
   "outputs": [
    {
     "data": {
      "text/html": [
       "<div>\n",
       "<style scoped>\n",
       "    .dataframe tbody tr th:only-of-type {\n",
       "        vertical-align: middle;\n",
       "    }\n",
       "\n",
       "    .dataframe tbody tr th {\n",
       "        vertical-align: top;\n",
       "    }\n",
       "\n",
       "    .dataframe thead th {\n",
       "        text-align: right;\n",
       "    }\n",
       "</style>\n",
       "<table border=\"1\" class=\"dataframe\">\n",
       "  <thead>\n",
       "    <tr style=\"text-align: right;\">\n",
       "      <th></th>\n",
       "      <th>item_date</th>\n",
       "      <th>quantity tons</th>\n",
       "      <th>customer</th>\n",
       "      <th>country</th>\n",
       "      <th>application</th>\n",
       "      <th>thickness</th>\n",
       "      <th>width</th>\n",
       "      <th>product_ref</th>\n",
       "      <th>delivery date</th>\n",
       "      <th>selling_price</th>\n",
       "    </tr>\n",
       "  </thead>\n",
       "  <tbody>\n",
       "    <tr>\n",
       "      <th>count</th>\n",
       "      <td>1.816380e+05</td>\n",
       "      <td>1.816380e+05</td>\n",
       "      <td>1.816380e+05</td>\n",
       "      <td>181638.000000</td>\n",
       "      <td>181638.000000</td>\n",
       "      <td>181638.000000</td>\n",
       "      <td>181638.000000</td>\n",
       "      <td>1.816380e+05</td>\n",
       "      <td>1.816380e+05</td>\n",
       "      <td>1.816380e+05</td>\n",
       "    </tr>\n",
       "    <tr>\n",
       "      <th>mean</th>\n",
       "      <td>2.020459e+07</td>\n",
       "      <td>5.876006e+03</td>\n",
       "      <td>3.023251e+07</td>\n",
       "      <td>44.893079</td>\n",
       "      <td>25.616286</td>\n",
       "      <td>2.564151</td>\n",
       "      <td>1295.262682</td>\n",
       "      <td>4.740325e+08</td>\n",
       "      <td>2.020738e+07</td>\n",
       "      <td>1.918328e+03</td>\n",
       "    </tr>\n",
       "    <tr>\n",
       "      <th>std</th>\n",
       "      <td>4.551294e+03</td>\n",
       "      <td>2.349301e+06</td>\n",
       "      <td>1.005615e+05</td>\n",
       "      <td>24.404245</td>\n",
       "      <td>17.754183</td>\n",
       "      <td>6.572518</td>\n",
       "      <td>261.642520</td>\n",
       "      <td>7.175384e+08</td>\n",
       "      <td>2.411281e+04</td>\n",
       "      <td>3.318267e+05</td>\n",
       "    </tr>\n",
       "    <tr>\n",
       "      <th>min</th>\n",
       "      <td>1.995000e+07</td>\n",
       "      <td>-2.000000e+03</td>\n",
       "      <td>1.245800e+04</td>\n",
       "      <td>25.000000</td>\n",
       "      <td>2.000000</td>\n",
       "      <td>0.180000</td>\n",
       "      <td>1.000000</td>\n",
       "      <td>6.117280e+05</td>\n",
       "      <td>2.019040e+07</td>\n",
       "      <td>-1.160000e+03</td>\n",
       "    </tr>\n",
       "    <tr>\n",
       "      <th>25%</th>\n",
       "      <td>2.020093e+07</td>\n",
       "      <td>1.096868e+01</td>\n",
       "      <td>3.019688e+07</td>\n",
       "      <td>26.000000</td>\n",
       "      <td>10.000000</td>\n",
       "      <td>0.700000</td>\n",
       "      <td>1180.000000</td>\n",
       "      <td>6.119930e+05</td>\n",
       "      <td>2.020110e+07</td>\n",
       "      <td>6.690000e+02</td>\n",
       "    </tr>\n",
       "    <tr>\n",
       "      <th>50%</th>\n",
       "      <td>2.020113e+07</td>\n",
       "      <td>3.036327e+01</td>\n",
       "      <td>3.020524e+07</td>\n",
       "      <td>30.000000</td>\n",
       "      <td>15.000000</td>\n",
       "      <td>1.500000</td>\n",
       "      <td>1250.000000</td>\n",
       "      <td>6.406650e+05</td>\n",
       "      <td>2.021010e+07</td>\n",
       "      <td>8.120000e+02</td>\n",
       "    </tr>\n",
       "    <tr>\n",
       "      <th>75%</th>\n",
       "      <td>2.021020e+07</td>\n",
       "      <td>6.716141e+01</td>\n",
       "      <td>3.028042e+07</td>\n",
       "      <td>78.000000</td>\n",
       "      <td>41.000000</td>\n",
       "      <td>3.000000</td>\n",
       "      <td>1500.000000</td>\n",
       "      <td>1.332077e+09</td>\n",
       "      <td>2.021040e+07</td>\n",
       "      <td>9.530000e+02</td>\n",
       "    </tr>\n",
       "    <tr>\n",
       "      <th>max</th>\n",
       "      <td>2.021040e+07</td>\n",
       "      <td>1.000000e+09</td>\n",
       "      <td>3.040818e+07</td>\n",
       "      <td>113.000000</td>\n",
       "      <td>99.000000</td>\n",
       "      <td>2500.000000</td>\n",
       "      <td>2990.000000</td>\n",
       "      <td>1.722208e+09</td>\n",
       "      <td>3.031010e+07</td>\n",
       "      <td>1.000010e+08</td>\n",
       "    </tr>\n",
       "  </tbody>\n",
       "</table>\n",
       "</div>"
      ],
      "text/plain": [
       "          item_date  quantity tons      customer        country  \\\n",
       "count  1.816380e+05   1.816380e+05  1.816380e+05  181638.000000   \n",
       "mean   2.020459e+07   5.876006e+03  3.023251e+07      44.893079   \n",
       "std    4.551294e+03   2.349301e+06  1.005615e+05      24.404245   \n",
       "min    1.995000e+07  -2.000000e+03  1.245800e+04      25.000000   \n",
       "25%    2.020093e+07   1.096868e+01  3.019688e+07      26.000000   \n",
       "50%    2.020113e+07   3.036327e+01  3.020524e+07      30.000000   \n",
       "75%    2.021020e+07   6.716141e+01  3.028042e+07      78.000000   \n",
       "max    2.021040e+07   1.000000e+09  3.040818e+07     113.000000   \n",
       "\n",
       "         application      thickness          width   product_ref  \\\n",
       "count  181638.000000  181638.000000  181638.000000  1.816380e+05   \n",
       "mean       25.616286       2.564151    1295.262682  4.740325e+08   \n",
       "std        17.754183       6.572518     261.642520  7.175384e+08   \n",
       "min         2.000000       0.180000       1.000000  6.117280e+05   \n",
       "25%        10.000000       0.700000    1180.000000  6.119930e+05   \n",
       "50%        15.000000       1.500000    1250.000000  6.406650e+05   \n",
       "75%        41.000000       3.000000    1500.000000  1.332077e+09   \n",
       "max        99.000000    2500.000000    2990.000000  1.722208e+09   \n",
       "\n",
       "       delivery date  selling_price  \n",
       "count   1.816380e+05   1.816380e+05  \n",
       "mean    2.020738e+07   1.918328e+03  \n",
       "std     2.411281e+04   3.318267e+05  \n",
       "min     2.019040e+07  -1.160000e+03  \n",
       "25%     2.020110e+07   6.690000e+02  \n",
       "50%     2.021010e+07   8.120000e+02  \n",
       "75%     2.021040e+07   9.530000e+02  \n",
       "max     3.031010e+07   1.000010e+08  "
      ]
     },
     "execution_count": 16,
     "metadata": {},
     "output_type": "execute_result"
    }
   ],
   "source": [
    "df.describe()"
   ]
  },
  {
   "cell_type": "code",
   "execution_count": 459,
   "id": "fdb8eb60",
   "metadata": {},
   "outputs": [
    {
     "data": {
      "image/png": "[encoded data removed]",
      "text/plain": [
       "<Figure size 432x288 with 1 Axes>"
      ]
     },
     "metadata": {
      "needs_background": "light"
     },
     "output_type": "display_data"
    },
    {
     "name": "stdout",
     "output_type": "stream",
     "text": [
      "Skewness : 424.64990532133237\n"
     ]
    }
   ],
   "source": [
    "# 1. Quantity Tons\n",
    "# Check the skewness of quantity tons feature\n",
    "\n",
    "sns.distplot(df['quantity tons'])\n",
    "plt.show()\n",
    "print('Skewness :',df['quantity tons'].skew())"
   ]
  },
  {
   "cell_type": "code",
   "execution_count": 460,
   "id": "f15103f2",
   "metadata": {},
   "outputs": [
    {
     "data": {
      "image/png": "[encoded data removed]",
      "text/plain": [
       "<Figure size 432x288 with 1 Axes>"
      ]
     },
     "metadata": {
      "needs_background": "light"
     },
     "output_type": "display_data"
    }
   ],
   "source": [
    "sns.scatterplot(df['quantity tons'],df['selling_price'])\n",
    "plt.show()"
   ]
  },
  {
   "cell_type": "code",
   "execution_count": 461,
   "id": "1399cb15",
   "metadata": {
    "scrolled": true
   },
   "outputs": [
    {
     "data": {
      "image/png": "[encoded data removed]",
      "text/plain": [
       "<Figure size 432x288 with 1 Axes>"
      ]
     },
     "metadata": {
      "needs_background": "light"
     },
     "output_type": "display_data"
    },
    {
     "name": "stdout",
     "output_type": "stream",
     "text": [
      "Skewness : -149.08849775548512\n"
     ]
    }
   ],
   "source": [
    "# 2. Customer\n",
    "# Check the skewness of Customer feature\n",
    "\n",
    "sns.distplot(df['customer'])\n",
    "plt.show()\n",
    "print('Skewness :',df['customer'].skew())"
   ]
  },
  {
   "cell_type": "code",
   "execution_count": 462,
   "id": "c278b034",
   "metadata": {},
   "outputs": [
    {
     "data": {
      "image/png": "[encoded data removed]",
      "text/plain": [
       "<Figure size 432x288 with 1 Axes>"
      ]
     },
     "metadata": {
      "needs_background": "light"
     },
     "output_type": "display_data"
    }
   ],
   "source": [
    "sns.scatterplot(df['customer'],df['selling_price'])\n",
    "plt.show()"
   ]
  },
  {
   "cell_type": "code",
   "execution_count": 463,
   "id": "b758aa76",
   "metadata": {},
   "outputs": [
    {
     "data": {
      "image/png": "[encoded data removed]",
      "text/plain": [
       "<Figure size 432x288 with 1 Axes>"
      ]
     },
     "metadata": {
      "needs_background": "light"
     },
     "output_type": "display_data"
    },
    {
     "name": "stdout",
     "output_type": "stream",
     "text": [
      "Skewness : 0.7535909197330176\n"
     ]
    }
   ],
   "source": [
    "# 3. Country\n",
    "# Check the skewness of Country feature\n",
    "\n",
    "sns.distplot(df['country'])\n",
    "plt.show()\n",
    "print('Skewness :',df['country'].skew())"
   ]
  },
  {
   "cell_type": "code",
   "execution_count": 464,
   "id": "36928b78",
   "metadata": {},
   "outputs": [
    {
     "data": {
      "image/png": "[encoded data removed]",
      "text/plain": [
       "<Figure size 432x288 with 1 Axes>"
      ]
     },
     "metadata": {
      "needs_background": "light"
     },
     "output_type": "display_data"
    }
   ],
   "source": [
    "sns.scatterplot(df['country'],df['selling_price'])\n",
    "plt.show()"
   ]
  },
  {
   "cell_type": "code",
   "execution_count": 465,
   "id": "215ec494",
   "metadata": {},
   "outputs": [
    {
     "data": {
      "image/png": "[encoded data removed]",
      "text/plain": [
       "<Figure size 864x432 with 1 Axes>"
      ]
     },
     "metadata": {
      "needs_background": "light"
     },
     "output_type": "display_data"
    }
   ],
   "source": [
    "# 4. Status\n",
    "plt.figure(figsize=(12,6))\n",
    "sns.countplot(df['status'])\n",
    "plt.show()"
   ]
  },
  {
   "cell_type": "code",
   "execution_count": 466,
   "id": "fa812a9e",
   "metadata": {},
   "outputs": [
    {
     "data": {
      "image/png": "[encoded data removed]",
      "text/plain": [
       "<Figure size 864x432 with 1 Axes>"
      ]
     },
     "metadata": {
      "needs_background": "light"
     },
     "output_type": "display_data"
    }
   ],
   "source": [
    "# 5. Item Type\n",
    "plt.figure(figsize=(12,6))\n",
    "sns.countplot(df['item type'])\n",
    "plt.show()"
   ]
  },
  {
   "cell_type": "code",
   "execution_count": 467,
   "id": "25d8f249",
   "metadata": {},
   "outputs": [
    {
     "data": {
      "image/png": "[encoded data removed]",
      "text/plain": [
       "<Figure size 432x288 with 1 Axes>"
      ]
     },
     "metadata": {
      "needs_background": "light"
     },
     "output_type": "display_data"
    },
    {
     "name": "stdout",
     "output_type": "stream",
     "text": [
      "Skewness : 0.7243122177332125\n"
     ]
    }
   ],
   "source": [
    "# 6. Application\n",
    "# Check the skewness of Application feature\n",
    "\n",
    "sns.distplot(df['application'])\n",
    "plt.show()\n",
    "print('Skewness :',df['application'].skew())"
   ]
  },
  {
   "cell_type": "code",
   "execution_count": 468,
   "id": "3a3e0458",
   "metadata": {},
   "outputs": [
    {
     "data": {
      "image/png": "[encoded data removed]",
      "text/plain": [
       "<Figure size 432x288 with 1 Axes>"
      ]
     },
     "metadata": {
      "needs_background": "light"
     },
     "output_type": "display_data"
    }
   ],
   "source": [
    "sns.scatterplot(df['application'],df['selling_price'])\n",
    "plt.show()"
   ]
  },
  {
   "cell_type": "code",
   "execution_count": 469,
   "id": "83d1db3e",
   "metadata": {},
   "outputs": [
    {
     "data": {
      "image/png": "[encoded data removed]",
      "text/plain": [
       "<Figure size 432x288 with 1 Axes>"
      ]
     },
     "metadata": {
      "needs_background": "light"
     },
     "output_type": "display_data"
    },
    {
     "name": "stdout",
     "output_type": "stream",
     "text": [
      "Skewness : 303.4764461273453\n"
     ]
    }
   ],
   "source": [
    "# 7. Thickness\n",
    "# Check the skewness of Thickness feature\n",
    "\n",
    "sns.distplot(df['thickness'])\n",
    "plt.show()\n",
    "print('Skewness :',df['thickness'].skew())"
   ]
  },
  {
   "cell_type": "code",
   "execution_count": 470,
   "id": "c5fed801",
   "metadata": {},
   "outputs": [
    {
     "data": {
      "image/png": "[encoded data removed]",
      "text/plain": [
       "<Figure size 432x288 with 1 Axes>"
      ]
     },
     "metadata": {
      "needs_background": "light"
     },
     "output_type": "display_data"
    }
   ],
   "source": [
    "sns.scatterplot(df['thickness'],df['selling_price'])\n",
    "plt.show()"
   ]
  },
  {
   "cell_type": "code",
   "execution_count": 471,
   "id": "d8cf308b",
   "metadata": {},
   "outputs": [
    {
     "data": {
      "image/png": "[encoded data removed]",
      "text/plain": [
       "<Figure size 432x288 with 1 Axes>"
      ]
     },
     "metadata": {
      "needs_background": "light"
     },
     "output_type": "display_data"
    },
    {
     "name": "stdout",
     "output_type": "stream",
     "text": [
      "Skewness : 0.374863127815038\n"
     ]
    }
   ],
   "source": [
    "# 7. Width\n",
    "# Check the skewness of Width feature\n",
    "\n",
    "sns.distplot(df['width'])\n",
    "plt.show()\n",
    "print('Skewness :',df['width'].skew())"
   ]
  },
  {
   "cell_type": "code",
   "execution_count": 472,
   "id": "92fec492",
   "metadata": {},
   "outputs": [
    {
     "data": {
      "image/png": "[encoded data removed]",
      "text/plain": [
       "<Figure size 432x288 with 1 Axes>"
      ]
     },
     "metadata": {
      "needs_background": "light"
     },
     "output_type": "display_data"
    }
   ],
   "source": [
    "sns.scatterplot(df['width'],df['selling_price'])\n",
    "plt.show()"
   ]
  },
  {
   "cell_type": "code",
   "execution_count": 473,
   "id": "09bfa0f0",
   "metadata": {},
   "outputs": [
    {
     "data": {
      "image/png": "[encoded data removed]",
      "text/plain": [
       "<Figure size 432x288 with 1 Axes>"
      ]
     },
     "metadata": {
      "needs_background": "light"
     },
     "output_type": "display_data"
    },
    {
     "name": "stdout",
     "output_type": "stream",
     "text": [
      "Skewness : 1.0150099676994326\n"
     ]
    }
   ],
   "source": [
    "# 8. Product Reference\n",
    "# Check the skewness of Product Reference feature\n",
    "\n",
    "sns.distplot(df['product_ref'])\n",
    "plt.show()\n",
    "print('Skewness :',df['product_ref'].skew())"
   ]
  },
  {
   "cell_type": "code",
   "execution_count": 474,
   "id": "f13ea0f3",
   "metadata": {},
   "outputs": [
    {
     "data": {
      "image/png": "[encoded data removed]",
      "text/plain": [
       "<Figure size 432x288 with 1 Axes>"
      ]
     },
     "metadata": {
      "needs_background": "light"
     },
     "output_type": "display_data"
    }
   ],
   "source": [
    "sns.scatterplot(df['product_ref'],df['selling_price'])\n",
    "plt.show()"
   ]
  },
  {
   "cell_type": "code",
   "execution_count": 475,
   "id": "c6e519ba",
   "metadata": {
    "scrolled": true
   },
   "outputs": [
    {
     "data": {
      "image/png": "[encoded data removed]",
      "text/plain": [
       "<Figure size 432x288 with 1 Axes>"
      ]
     },
     "metadata": {
      "needs_background": "light"
     },
     "output_type": "display_data"
    }
   ],
   "source": [
    "sns.distplot(df['selling_price'])\n",
    "plt.show()"
   ]
  },
  {
   "cell_type": "code",
   "execution_count": 17,
   "id": "7f4f08f0",
   "metadata": {},
   "outputs": [],
   "source": [
    "df['item_date']=df['item_date'].astype('str')\n",
    "df['delivery date']=df['delivery date'].astype('str')"
   ]
  },
  {
   "cell_type": "code",
   "execution_count": 18,
   "id": "15abfadf",
   "metadata": {},
   "outputs": [],
   "source": [
    "df['item_date_year']=df['item_date'].apply(lambda x:int(x[:4]))\n",
    "df['item_date_month']=df['item_date'].apply(lambda x: int(x[4:6]))\n",
    "df['delivery_date_year']=df['delivery date'].apply(lambda x:int(x[:4]))\n",
    "df['delivery_date_month']=df['delivery date'].apply(lambda x:int(x[4:6]))"
   ]
  },
  {
   "cell_type": "code",
   "execution_count": 19,
   "id": "f0185e38",
   "metadata": {},
   "outputs": [],
   "source": [
    "df['overall_month']=np.abs(df['item_date_month']-df['delivery_date_month'])\n",
    "df['overall_year']=np.abs(df['item_date_year']-df['delivery_date_year'])"
   ]
  },
  {
   "cell_type": "code",
   "execution_count": 20,
   "id": "d50af9b4",
   "metadata": {},
   "outputs": [],
   "source": [
    "df.drop(columns=['item_date','delivery date','item_date_month','delivery_date_month','delivery_date_year','item_date_year'],inplace=True)"
   ]
  },
  {
   "cell_type": "code",
   "execution_count": 21,
   "id": "c3256d23",
   "metadata": {},
   "outputs": [
    {
     "data": {
      "text/html": [
       "<div>\n",
       "<style scoped>\n",
       "    .dataframe tbody tr th:only-of-type {\n",
       "        vertical-align: middle;\n",
       "    }\n",
       "\n",
       "    .dataframe tbody tr th {\n",
       "        vertical-align: top;\n",
       "    }\n",
       "\n",
       "    .dataframe thead th {\n",
       "        text-align: right;\n",
       "    }\n",
       "</style>\n",
       "<table border=\"1\" class=\"dataframe\">\n",
       "  <thead>\n",
       "    <tr style=\"text-align: right;\">\n",
       "      <th></th>\n",
       "      <th>quantity tons</th>\n",
       "      <th>customer</th>\n",
       "      <th>country</th>\n",
       "      <th>status</th>\n",
       "      <th>item type</th>\n",
       "      <th>application</th>\n",
       "      <th>thickness</th>\n",
       "      <th>width</th>\n",
       "      <th>product_ref</th>\n",
       "      <th>selling_price</th>\n",
       "      <th>overall_month</th>\n",
       "      <th>overall_year</th>\n",
       "    </tr>\n",
       "  </thead>\n",
       "  <tbody>\n",
       "    <tr>\n",
       "      <th>0</th>\n",
       "      <td>54.151139</td>\n",
       "      <td>30156308.0</td>\n",
       "      <td>28.0</td>\n",
       "      <td>Won</td>\n",
       "      <td>W</td>\n",
       "      <td>10.0</td>\n",
       "      <td>2.00</td>\n",
       "      <td>1500.0</td>\n",
       "      <td>1670798778</td>\n",
       "      <td>854.00</td>\n",
       "      <td>3</td>\n",
       "      <td>0</td>\n",
       "    </tr>\n",
       "    <tr>\n",
       "      <th>1</th>\n",
       "      <td>768.024839</td>\n",
       "      <td>30202938.0</td>\n",
       "      <td>25.0</td>\n",
       "      <td>Won</td>\n",
       "      <td>W</td>\n",
       "      <td>41.0</td>\n",
       "      <td>0.80</td>\n",
       "      <td>1210.0</td>\n",
       "      <td>1668701718</td>\n",
       "      <td>1047.00</td>\n",
       "      <td>0</td>\n",
       "      <td>0</td>\n",
       "    </tr>\n",
       "    <tr>\n",
       "      <th>2</th>\n",
       "      <td>386.127949</td>\n",
       "      <td>30153963.0</td>\n",
       "      <td>30.0</td>\n",
       "      <td>Won</td>\n",
       "      <td>WI</td>\n",
       "      <td>28.0</td>\n",
       "      <td>0.38</td>\n",
       "      <td>952.0</td>\n",
       "      <td>628377</td>\n",
       "      <td>644.33</td>\n",
       "      <td>3</td>\n",
       "      <td>0</td>\n",
       "    </tr>\n",
       "    <tr>\n",
       "      <th>3</th>\n",
       "      <td>202.411065</td>\n",
       "      <td>30349574.0</td>\n",
       "      <td>32.0</td>\n",
       "      <td>Won</td>\n",
       "      <td>S</td>\n",
       "      <td>59.0</td>\n",
       "      <td>2.30</td>\n",
       "      <td>1317.0</td>\n",
       "      <td>1668701718</td>\n",
       "      <td>768.00</td>\n",
       "      <td>3</td>\n",
       "      <td>0</td>\n",
       "    </tr>\n",
       "    <tr>\n",
       "      <th>4</th>\n",
       "      <td>785.526262</td>\n",
       "      <td>30211560.0</td>\n",
       "      <td>28.0</td>\n",
       "      <td>Won</td>\n",
       "      <td>W</td>\n",
       "      <td>10.0</td>\n",
       "      <td>4.00</td>\n",
       "      <td>2000.0</td>\n",
       "      <td>640665</td>\n",
       "      <td>577.00</td>\n",
       "      <td>1</td>\n",
       "      <td>0</td>\n",
       "    </tr>\n",
       "  </tbody>\n",
       "</table>\n",
       "</div>"
      ],
      "text/plain": [
       "   quantity tons    customer  country status item type  application  \\\n",
       "0      54.151139  30156308.0     28.0    Won         W         10.0   \n",
       "1     768.024839  30202938.0     25.0    Won         W         41.0   \n",
       "2     386.127949  30153963.0     30.0    Won        WI         28.0   \n",
       "3     202.411065  30349574.0     32.0    Won         S         59.0   \n",
       "4     785.526262  30211560.0     28.0    Won         W         10.0   \n",
       "\n",
       "   thickness   width  product_ref  selling_price  overall_month  overall_year  \n",
       "0       2.00  1500.0   1670798778         854.00              3             0  \n",
       "1       0.80  1210.0   1668701718        1047.00              0             0  \n",
       "2       0.38   952.0       628377         644.33              3             0  \n",
       "3       2.30  1317.0   1668701718         768.00              3             0  \n",
       "4       4.00  2000.0       640665         577.00              1             0  "
      ]
     },
     "execution_count": 21,
     "metadata": {},
     "output_type": "execute_result"
    }
   ],
   "source": [
    "df.head()"
   ]
  },
  {
   "cell_type": "code",
   "execution_count": 22,
   "id": "5b69704d",
   "metadata": {
    "scrolled": true
   },
   "outputs": [
    {
     "data": {
      "image/png": "[encoded data removed]",
      "text/plain": [
       "<Figure size 432x288 with 2 Axes>"
      ]
     },
     "metadata": {
      "needs_background": "light"
     },
     "output_type": "display_data"
    }
   ],
   "source": [
    "sns.heatmap(df.corr(),annot=True,fmt=\".2f\")\n",
    "plt.show()"
   ]
  },
  {
   "cell_type": "markdown",
   "id": "fbd66bd6",
   "metadata": {},
   "source": [
    "### Treat the Outliers"
   ]
  },
  {
   "cell_type": "code",
   "execution_count": 23,
   "id": "fc7c6c34",
   "metadata": {},
   "outputs": [
    {
     "data": {
      "image/png": "[encoded data removed]",
      "text/plain": [
       "<Figure size 432x288 with 1 Axes>"
      ]
     },
     "metadata": {
      "needs_background": "light"
     },
     "output_type": "display_data"
    }
   ],
   "source": [
    "sns.boxplot(df['quantity tons'])\n",
    "plt.show()"
   ]
  },
  {
   "cell_type": "code",
   "execution_count": 24,
   "id": "a2ba9d22",
   "metadata": {
    "scrolled": true
   },
   "outputs": [
    {
     "name": "stdout",
     "output_type": "stream",
     "text": [
      "Quartile 1 : 10.968678409999999\n",
      "Median     : 30.363266375\n",
      "Quartile 3 : 67.161414615\n",
      "Lowerbound : -73.3204258975\n",
      "Upperbound : 151.4505189225\n"
     ]
    }
   ],
   "source": [
    "# quantity tons\n",
    "df['quantity tons']=df['quantity tons'].fillna(3.413260820573159)\n",
    "qrt1=np.quantile(df['quantity tons'],q=0.25)\n",
    "median=df['quantity tons'].median()\n",
    "qrt3=np.quantile(df['quantity tons'],q=0.75)\n",
    "iqr=qrt3-qrt1\n",
    "lowb=qrt1-1.5*iqr\n",
    "uppb=qrt3+1.5*iqr\n",
    "print('Quartile 1 :',qrt1)\n",
    "print('Median     :',median)\n",
    "print('Quartile 3 :',qrt3)\n",
    "print('Lowerbound :',lowb)\n",
    "print('Upperbound :',uppb)"
   ]
  },
  {
   "cell_type": "code",
   "execution_count": 25,
   "id": "7531decd",
   "metadata": {},
   "outputs": [],
   "source": [
    "outliers=[]\n",
    "for i in df['quantity tons']:\n",
    "    if i<lowb:\n",
    "        outliers.append(lowb)\n",
    "    elif i>uppb:\n",
    "        outliers.append(uppb)\n",
    "    else:\n",
    "        outliers.append(i)\n",
    "df['quantity tons']=outliers"
   ]
  },
  {
   "cell_type": "code",
   "execution_count": 26,
   "id": "4d4cad8b",
   "metadata": {},
   "outputs": [
    {
     "data": {
      "image/png": "[encoded data removed]",
      "text/plain": [
       "<Figure size 432x288 with 1 Axes>"
      ]
     },
     "metadata": {
      "needs_background": "light"
     },
     "output_type": "display_data"
    }
   ],
   "source": [
    "sns.boxplot(df['quantity tons'])\n",
    "plt.show()"
   ]
  },
  {
   "cell_type": "code",
   "execution_count": 27,
   "id": "8679629a",
   "metadata": {
    "scrolled": true
   },
   "outputs": [
    {
     "data": {
      "image/png": "[encoded data removed]",
      "text/plain": [
       "<Figure size 432x288 with 1 Axes>"
      ]
     },
     "metadata": {
      "needs_background": "light"
     },
     "output_type": "display_data"
    },
    {
     "name": "stdout",
     "output_type": "stream",
     "text": [
      "Skewness : 1.1216567758562528\n"
     ]
    }
   ],
   "source": [
    "sns.distplot(df['quantity tons'])\n",
    "plt.show()\n",
    "print('Skewness :',df['quantity tons'].skew())"
   ]
  },
  {
   "cell_type": "code",
   "execution_count": 28,
   "id": "31d07875",
   "metadata": {},
   "outputs": [
    {
     "data": {
      "text/plain": [
       "<AxesSubplot:xlabel='customer'>"
      ]
     },
     "execution_count": 28,
     "metadata": {},
     "output_type": "execute_result"
    },
    {
     "data": {
      "image/png": "[encoded data removed]",
      "text/plain": [
       "<Figure size 432x288 with 1 Axes>"
      ]
     },
     "metadata": {
      "needs_background": "light"
     },
     "output_type": "display_data"
    }
   ],
   "source": [
    "# customer\n",
    "sns.boxplot(df['customer'])"
   ]
  },
  {
   "cell_type": "code",
   "execution_count": 29,
   "id": "9b54b7b4",
   "metadata": {},
   "outputs": [
    {
     "name": "stdout",
     "output_type": "stream",
     "text": [
      "Quartile 1 : 30196884.0\n",
      "Median     : 30205242.0\n",
      "Quartile 3 : 30280416.0\n",
      "Lowerbound : 30071586.0\n",
      "Upperbound : 30405714.0\n"
     ]
    }
   ],
   "source": [
    "qrt1=np.quantile(df['customer'],q=0.25)\n",
    "median=df['customer'].median()\n",
    "qrt3=np.quantile(df['customer'],q=0.75)\n",
    "iqr=qrt3-qrt1\n",
    "lowb=qrt1-1.5*iqr\n",
    "uppb=qrt3+1.5*iqr\n",
    "print('Quartile 1 :',qrt1)\n",
    "print('Median     :',median)\n",
    "print('Quartile 3 :',qrt3)\n",
    "print('Lowerbound :',lowb)\n",
    "print('Upperbound :',uppb)\n",
    "outliers=[]\n",
    "for i in df['customer']:\n",
    "    if i<lowb:\n",
    "        outliers.append(lowb)\n",
    "    elif i>uppb:\n",
    "        outliers.append(uppb)\n",
    "    else:\n",
    "        outliers.append(i)\n",
    "df['customer']=outliers"
   ]
  },
  {
   "cell_type": "code",
   "execution_count": 30,
   "id": "0331f3ed",
   "metadata": {},
   "outputs": [
    {
     "data": {
      "image/png": "[encoded data removed]",
      "text/plain": [
       "<Figure size 432x288 with 1 Axes>"
      ]
     },
     "metadata": {
      "needs_background": "light"
     },
     "output_type": "display_data"
    }
   ],
   "source": [
    "sns.boxplot(df['customer'])\n",
    "plt.show()"
   ]
  },
  {
   "cell_type": "code",
   "execution_count": 31,
   "id": "728d6248",
   "metadata": {},
   "outputs": [
    {
     "data": {
      "image/png": "[encoded data removed]",
      "text/plain": [
       "<Figure size 432x288 with 1 Axes>"
      ]
     },
     "metadata": {
      "needs_background": "light"
     },
     "output_type": "display_data"
    },
    {
     "name": "stdout",
     "output_type": "stream",
     "text": [
      "Skewness : 0.9047427587165121\n"
     ]
    }
   ],
   "source": [
    "sns.distplot(df['customer'])\n",
    "plt.show()\n",
    "print('Skewness :',df['customer'].skew())"
   ]
  },
  {
   "cell_type": "code",
   "execution_count": 32,
   "id": "1bab80b8",
   "metadata": {},
   "outputs": [
    {
     "data": {
      "image/png": "[encoded data removed]",
      "text/plain": [
       "<Figure size 432x288 with 1 Axes>"
      ]
     },
     "metadata": {
      "needs_background": "light"
     },
     "output_type": "display_data"
    },
    {
     "name": "stdout",
     "output_type": "stream",
     "text": [
      "Skewness : 0.9016673535353062\n"
     ]
    }
   ],
   "source": [
    "df['customer']=np.log(df['customer'])\n",
    "sns.distplot(df['customer'])\n",
    "plt.show()\n",
    "print('Skewness :',df['customer'].skew())"
   ]
  },
  {
   "cell_type": "code",
   "execution_count": 33,
   "id": "daabc3c9",
   "metadata": {},
   "outputs": [
    {
     "data": {
      "image/png": "[encoded data removed]",
      "text/plain": [
       "<Figure size 432x288 with 1 Axes>"
      ]
     },
     "metadata": {
      "needs_background": "light"
     },
     "output_type": "display_data"
    }
   ],
   "source": [
    "# country\n",
    "\n",
    "sns.boxplot(df['country'])\n",
    "plt.show()"
   ]
  },
  {
   "cell_type": "code",
   "execution_count": 34,
   "id": "9201ea72",
   "metadata": {},
   "outputs": [
    {
     "data": {
      "image/png": "[encoded data removed]",
      "text/plain": [
       "<Figure size 432x288 with 1 Axes>"
      ]
     },
     "metadata": {
      "needs_background": "light"
     },
     "output_type": "display_data"
    },
    {
     "name": "stdout",
     "output_type": "stream",
     "text": [
      "Skewness : 0.7535909197330176\n"
     ]
    }
   ],
   "source": [
    "sns.distplot(df['country'])\n",
    "plt.show()\n",
    "print('Skewness :',df['country'].skew())"
   ]
  },
  {
   "cell_type": "code",
   "execution_count": 35,
   "id": "36c20e93",
   "metadata": {},
   "outputs": [
    {
     "data": {
      "image/png": "[encoded data removed]",
      "text/plain": [
       "<Figure size 432x288 with 1 Axes>"
      ]
     },
     "metadata": {
      "needs_background": "light"
     },
     "output_type": "display_data"
    },
    {
     "name": "stdout",
     "output_type": "stream",
     "text": [
      "Skewness : 0.6590225770371265\n"
     ]
    }
   ],
   "source": [
    "df['country']=np.log(df['country'])\n",
    "sns.distplot(df['country'])\n",
    "plt.show()\n",
    "print('Skewness :',df['country'].skew())"
   ]
  },
  {
   "cell_type": "code",
   "execution_count": 36,
   "id": "a989371d",
   "metadata": {},
   "outputs": [
    {
     "data": {
      "image/png": "[encoded data removed]",
      "text/plain": [
       "<Figure size 432x288 with 1 Axes>"
      ]
     },
     "metadata": {
      "needs_background": "light"
     },
     "output_type": "display_data"
    }
   ],
   "source": [
    "# application\n",
    "\n",
    "sns.boxplot(df['application'])\n",
    "plt.show()"
   ]
  },
  {
   "cell_type": "code",
   "execution_count": 37,
   "id": "ceb95cd8",
   "metadata": {},
   "outputs": [
    {
     "name": "stdout",
     "output_type": "stream",
     "text": [
      "Quartile 1 : 10.0\n",
      "Median     : 15.0\n",
      "Quartile 3 : 41.0\n",
      "Lowerbound : -36.5\n",
      "Upperbound : 87.5\n"
     ]
    }
   ],
   "source": [
    "qrt1=np.quantile(df['application'],q=0.25)\n",
    "median=df['application'].median()\n",
    "qrt3=np.quantile(df['application'],q=0.75)\n",
    "iqr=qrt3-qrt1\n",
    "lowb=qrt1-1.5*iqr\n",
    "uppb=qrt3+1.5*iqr\n",
    "print('Quartile 1 :',qrt1)\n",
    "print('Median     :',median)\n",
    "print('Quartile 3 :',qrt3)\n",
    "print('Lowerbound :',lowb)\n",
    "print('Upperbound :',uppb)\n",
    "outliers=[]\n",
    "for i in df['application']:\n",
    "    if i<lowb:\n",
    "        outliers.append(lowb)\n",
    "    elif i>uppb:\n",
    "        outliers.append(uppb)\n",
    "    else:\n",
    "        outliers.append(i)\n",
    "df['application']=outliers"
   ]
  },
  {
   "cell_type": "code",
   "execution_count": 38,
   "id": "ea25d07f",
   "metadata": {},
   "outputs": [
    {
     "data": {
      "image/png": "[encoded data removed]",
      "text/plain": [
       "<Figure size 432x288 with 1 Axes>"
      ]
     },
     "metadata": {
      "needs_background": "light"
     },
     "output_type": "display_data"
    }
   ],
   "source": [
    "sns.boxplot(df['application'])\n",
    "plt.show()"
   ]
  },
  {
   "cell_type": "code",
   "execution_count": 39,
   "id": "05c57f17",
   "metadata": {},
   "outputs": [
    {
     "data": {
      "image/png": "[encoded data removed]",
      "text/plain": [
       "<Figure size 432x288 with 1 Axes>"
      ]
     },
     "metadata": {
      "needs_background": "light"
     },
     "output_type": "display_data"
    },
    {
     "name": "stdout",
     "output_type": "stream",
     "text": [
      "Skewness : 0.7073511951360936\n"
     ]
    }
   ],
   "source": [
    "sns.distplot(df['application'])\n",
    "plt.show()\n",
    "print('Skewness :',df['application'].skew())"
   ]
  },
  {
   "cell_type": "code",
   "execution_count": 40,
   "id": "9b13803e",
   "metadata": {},
   "outputs": [
    {
     "data": {
      "image/png": "[encoded data removed]",
      "text/plain": [
       "<Figure size 432x288 with 1 Axes>"
      ]
     },
     "metadata": {
      "needs_background": "light"
     },
     "output_type": "display_data"
    },
    {
     "name": "stdout",
     "output_type": "stream",
     "text": [
      "Skewness : 0.1938105793424309\n"
     ]
    }
   ],
   "source": [
    "df['application']=np.log(df['application'])\n",
    "sns.distplot(df['application'])\n",
    "plt.show()\n",
    "print('Skewness :',df['application'].skew())"
   ]
  },
  {
   "cell_type": "code",
   "execution_count": 41,
   "id": "932afc4f",
   "metadata": {},
   "outputs": [
    {
     "data": {
      "image/png": "[encoded data removed]",
      "text/plain": [
       "<Figure size 432x288 with 1 Axes>"
      ]
     },
     "metadata": {
      "needs_background": "light"
     },
     "output_type": "display_data"
    }
   ],
   "source": [
    "# thickness\n",
    "\n",
    "sns.boxplot(df['thickness'])\n",
    "plt.show()"
   ]
  },
  {
   "cell_type": "code",
   "execution_count": 42,
   "id": "4765cb8d",
   "metadata": {},
   "outputs": [
    {
     "name": "stdout",
     "output_type": "stream",
     "text": [
      "Quartile 1 : 0.7\n",
      "Median     : 1.5\n",
      "Quartile 3 : 3.0\n",
      "Lowerbound : -2.75\n",
      "Upperbound : 6.449999999999999\n"
     ]
    }
   ],
   "source": [
    "qrt1=np.quantile(df['thickness'],q=0.25)\n",
    "median=df['thickness'].median()\n",
    "qrt3=np.quantile(df['thickness'],q=0.75)\n",
    "iqr=qrt3-qrt1\n",
    "lowb=qrt1-1.5*iqr\n",
    "uppb=qrt3+1.5*iqr\n",
    "print('Quartile 1 :',qrt1)\n",
    "print('Median     :',median)\n",
    "print('Quartile 3 :',qrt3)\n",
    "print('Lowerbound :',lowb)\n",
    "print('Upperbound :',uppb)\n",
    "outliers=[]\n",
    "for i in df['thickness']:\n",
    "    if i<lowb:\n",
    "        outliers.append(lowb)\n",
    "    elif i>uppb:\n",
    "        outliers.append(uppb)\n",
    "    else:\n",
    "        outliers.append(i)\n",
    "df['thickness']=outliers"
   ]
  },
  {
   "cell_type": "code",
   "execution_count": 43,
   "id": "4cfee135",
   "metadata": {},
   "outputs": [
    {
     "data": {
      "image/png": "[encoded data removed]",
      "text/plain": [
       "<Figure size 432x288 with 1 Axes>"
      ]
     },
     "metadata": {
      "needs_background": "light"
     },
     "output_type": "display_data"
    }
   ],
   "source": [
    "sns.boxplot(df['thickness'])\n",
    "plt.show()"
   ]
  },
  {
   "cell_type": "code",
   "execution_count": 44,
   "id": "b32d7938",
   "metadata": {},
   "outputs": [
    {
     "data": {
      "image/png": "[encoded data removed]",
      "text/plain": [
       "<Figure size 432x288 with 1 Axes>"
      ]
     },
     "metadata": {
      "needs_background": "light"
     },
     "output_type": "display_data"
    },
    {
     "name": "stdout",
     "output_type": "stream",
     "text": [
      "Skewness : 1.0613762337146269\n"
     ]
    }
   ],
   "source": [
    "sns.distplot(df['thickness'])\n",
    "plt.show()\n",
    "print('Skewness :',df['thickness'].skew())"
   ]
  },
  {
   "cell_type": "code",
   "execution_count": 45,
   "id": "7d6981a3",
   "metadata": {},
   "outputs": [
    {
     "data": {
      "image/png": "[encoded data removed]",
      "text/plain": [
       "<Figure size 432x288 with 1 Axes>"
      ]
     },
     "metadata": {
      "needs_background": "light"
     },
     "output_type": "display_data"
    },
    {
     "name": "stdout",
     "output_type": "stream",
     "text": [
      "Skewness : 0.1011168748412259\n"
     ]
    }
   ],
   "source": [
    "df['thickness']=np.log(df['thickness'])\n",
    "sns.distplot(df['thickness'])\n",
    "plt.show()\n",
    "print('Skewness :',df['thickness'].skew())"
   ]
  },
  {
   "cell_type": "code",
   "execution_count": 46,
   "id": "ba62da11",
   "metadata": {},
   "outputs": [
    {
     "data": {
      "image/png": "[encoded data removed]",
      "text/plain": [
       "<Figure size 432x288 with 1 Axes>"
      ]
     },
     "metadata": {
      "needs_background": "light"
     },
     "output_type": "display_data"
    }
   ],
   "source": [
    "# width\n",
    "\n",
    "sns.boxplot(df['width'])\n",
    "plt.show()"
   ]
  },
  {
   "cell_type": "code",
   "execution_count": 47,
   "id": "590059c7",
   "metadata": {},
   "outputs": [
    {
     "name": "stdout",
     "output_type": "stream",
     "text": [
      "Quartile 1 : 1180.0\n",
      "Median     : 1250.0\n",
      "Quartile 3 : 1500.0\n",
      "Lowerbound : 700.0\n",
      "Upperbound : 1980.0\n"
     ]
    }
   ],
   "source": [
    "qrt1=np.quantile(df['width'],q=0.25)\n",
    "median=df['width'].median()\n",
    "qrt3=np.quantile(df['width'],q=0.75)\n",
    "iqr=qrt3-qrt1\n",
    "lowb=qrt1-1.5*iqr\n",
    "uppb=qrt3+1.5*iqr\n",
    "print('Quartile 1 :',qrt1)\n",
    "print('Median     :',median)\n",
    "print('Quartile 3 :',qrt3)\n",
    "print('Lowerbound :',lowb)\n",
    "print('Upperbound :',uppb)\n",
    "outliers=[]\n",
    "for i in df['width']:\n",
    "    if i<lowb:\n",
    "        outliers.append(lowb)\n",
    "    elif i>uppb:\n",
    "        outliers.append(uppb)\n",
    "    else:\n",
    "        outliers.append(i)\n",
    "df['width']=outliers"
   ]
  },
  {
   "cell_type": "code",
   "execution_count": 48,
   "id": "30c0a24a",
   "metadata": {},
   "outputs": [
    {
     "data": {
      "image/png": "[encoded data removed]",
      "text/plain": [
       "<Figure size 432x288 with 1 Axes>"
      ]
     },
     "metadata": {
      "needs_background": "light"
     },
     "output_type": "display_data"
    }
   ],
   "source": [
    "sns.boxplot(df['width'])\n",
    "plt.show()"
   ]
  },
  {
   "cell_type": "code",
   "execution_count": 49,
   "id": "7984e54b",
   "metadata": {},
   "outputs": [
    {
     "data": {
      "image/png": "[encoded data removed]",
      "text/plain": [
       "<Figure size 432x288 with 1 Axes>"
      ]
     },
     "metadata": {
      "needs_background": "light"
     },
     "output_type": "display_data"
    },
    {
     "name": "stdout",
     "output_type": "stream",
     "text": [
      "Skewness : 0.6679623562773281\n"
     ]
    }
   ],
   "source": [
    "sns.distplot(df['width'])\n",
    "plt.show()\n",
    "print('Skewness :',df['width'].skew())"
   ]
  },
  {
   "cell_type": "code",
   "execution_count": 50,
   "id": "e66054fc",
   "metadata": {},
   "outputs": [
    {
     "data": {
      "image/png": "[encoded data removed]",
      "text/plain": [
       "<Figure size 432x288 with 1 Axes>"
      ]
     },
     "metadata": {
      "needs_background": "light"
     },
     "output_type": "display_data"
    },
    {
     "name": "stdout",
     "output_type": "stream",
     "text": [
      "Skewness : 0.2767617664125403\n"
     ]
    }
   ],
   "source": [
    "df['width']=np.sqrt(df['width'])\n",
    "sns.distplot(df['width'])\n",
    "plt.show()\n",
    "print('Skewness :',df['width'].skew())"
   ]
  },
  {
   "cell_type": "code",
   "execution_count": 51,
   "id": "57b442d9",
   "metadata": {},
   "outputs": [
    {
     "data": {
      "image/png": "[encoded data removed]",
      "text/plain": [
       "<Figure size 432x288 with 1 Axes>"
      ]
     },
     "metadata": {
      "needs_background": "light"
     },
     "output_type": "display_data"
    }
   ],
   "source": [
    "# product_ref\n",
    "\n",
    "sns.boxplot(df['product_ref'])\n",
    "plt.show()"
   ]
  },
  {
   "cell_type": "code",
   "execution_count": 52,
   "id": "b5c174e4",
   "metadata": {
    "scrolled": false
   },
   "outputs": [
    {
     "data": {
      "image/png": "[encoded data removed]",
      "text/plain": [
       "<Figure size 432x288 with 1 Axes>"
      ]
     },
     "metadata": {
      "needs_background": "light"
     },
     "output_type": "display_data"
    },
    {
     "name": "stdout",
     "output_type": "stream",
     "text": [
      "Skewness : 1.0150099676994326\n"
     ]
    }
   ],
   "source": [
    "sns.distplot(df['product_ref'])\n",
    "plt.show()\n",
    "print('Skewness :',df['product_ref'].skew())"
   ]
  },
  {
   "cell_type": "code",
   "execution_count": 53,
   "id": "858c4c94",
   "metadata": {
    "scrolled": true
   },
   "outputs": [
    {
     "data": {
      "image/png": "[encoded data removed]",
      "text/plain": [
       "<Figure size 432x288 with 1 Axes>"
      ]
     },
     "metadata": {
      "needs_background": "light"
     },
     "output_type": "display_data"
    },
    {
     "name": "stdout",
     "output_type": "stream",
     "text": [
      "Skewness : 0.3806094273884239\n"
     ]
    }
   ],
   "source": [
    "df['product_ref']=np.log(df['product_ref'])\n",
    "sns.distplot(df['product_ref'])\n",
    "plt.show()\n",
    "print('Skewness :',df['product_ref'].skew())"
   ]
  },
  {
   "cell_type": "code",
   "execution_count": 54,
   "id": "e3feacfc",
   "metadata": {
    "scrolled": true
   },
   "outputs": [
    {
     "data": {
      "image/png": "[encoded data removed]",
      "text/plain": [
       "<Figure size 432x288 with 1 Axes>"
      ]
     },
     "metadata": {
      "needs_background": "light"
     },
     "output_type": "display_data"
    }
   ],
   "source": [
    "# selling price\n",
    "sns.boxplot(df['selling_price'])\n",
    "plt.show()"
   ]
  },
  {
   "cell_type": "code",
   "execution_count": 55,
   "id": "00496a80",
   "metadata": {},
   "outputs": [
    {
     "name": "stdout",
     "output_type": "stream",
     "text": [
      "Quartile 1 : 669.0\n",
      "Median     : 812.0\n",
      "Quartile 3 : 953.0\n",
      "Lowerbound : 243.0\n",
      "Upperbound : 1379.0\n"
     ]
    }
   ],
   "source": [
    "qrt1=np.quantile(df['selling_price'],q=0.25)\n",
    "median=df['selling_price'].median()\n",
    "qrt3=np.quantile(df['selling_price'],q=0.75)\n",
    "iqr=qrt3-qrt1\n",
    "lowb=qrt1-1.5*iqr\n",
    "uppb=qrt3+1.5*iqr\n",
    "print('Quartile 1 :',qrt1)\n",
    "print('Median     :',median)\n",
    "print('Quartile 3 :',qrt3)\n",
    "print('Lowerbound :',lowb)\n",
    "print('Upperbound :',uppb)\n",
    "outliers=[]\n",
    "for i in df['selling_price']:\n",
    "    if i<lowb:\n",
    "        outliers.append(lowb)\n",
    "    elif i>uppb:\n",
    "        outliers.append(uppb)\n",
    "    else:\n",
    "        outliers.append(i)\n",
    "df['selling_price']=outliers"
   ]
  },
  {
   "cell_type": "code",
   "execution_count": 56,
   "id": "dba28aab",
   "metadata": {},
   "outputs": [
    {
     "data": {
      "image/png": "[encoded data removed]",
      "text/plain": [
       "<Figure size 432x288 with 1 Axes>"
      ]
     },
     "metadata": {
      "needs_background": "light"
     },
     "output_type": "display_data"
    }
   ],
   "source": [
    "sns.boxplot(df['selling_price'])\n",
    "plt.show()"
   ]
  },
  {
   "cell_type": "code",
   "execution_count": 57,
   "id": "f2da892f",
   "metadata": {
    "scrolled": true
   },
   "outputs": [
    {
     "data": {
      "image/png": "[encoded data removed]",
      "text/plain": [
       "<Figure size 432x288 with 1 Axes>"
      ]
     },
     "metadata": {
      "needs_background": "light"
     },
     "output_type": "display_data"
    },
    {
     "name": "stdout",
     "output_type": "stream",
     "text": [
      "Skewness : 0.1379918523197989\n"
     ]
    }
   ],
   "source": [
    "sns.distplot(df['selling_price'])\n",
    "plt.show()\n",
    "print('Skewness :',df['selling_price'].skew())"
   ]
  },
  {
   "cell_type": "code",
   "execution_count": 58,
   "id": "2d53fd28",
   "metadata": {},
   "outputs": [
    {
     "data": {
      "image/png": "[encoded data removed]",
      "text/plain": [
       "<Figure size 432x288 with 2 Axes>"
      ]
     },
     "metadata": {
      "needs_background": "light"
     },
     "output_type": "display_data"
    }
   ],
   "source": [
    "sns.heatmap(df.corr(),annot=True,fmt=\".2f\")\n",
    "plt.show()"
   ]
  },
  {
   "cell_type": "markdown",
   "id": "5e9b0f34",
   "metadata": {},
   "source": [
    "### Encoding the Data"
   ]
  },
  {
   "cell_type": "code",
   "execution_count": 59,
   "id": "8c25759b",
   "metadata": {},
   "outputs": [],
   "source": [
    "df=df[(df['status']=='Won') | (df['status']=='Lost')]"
   ]
  },
  {
   "cell_type": "code",
   "execution_count": 60,
   "id": "4ace85b9",
   "metadata": {},
   "outputs": [],
   "source": [
    "# Status\n",
    "df['status']=df['status'].map({'Won':1,'Lost':0})\n",
    "# Item Type\n",
    "df['item type']=df['item type'].map({'W':0,'WI':1,'S':2,'Others':3,'PL':4,'IPL':5,'SLAWR':6})"
   ]
  },
  {
   "cell_type": "code",
   "execution_count": 61,
   "id": "c6a95952",
   "metadata": {},
   "outputs": [
    {
     "data": {
      "text/html": [
       "<div>\n",
       "<style scoped>\n",
       "    .dataframe tbody tr th:only-of-type {\n",
       "        vertical-align: middle;\n",
       "    }\n",
       "\n",
       "    .dataframe tbody tr th {\n",
       "        vertical-align: top;\n",
       "    }\n",
       "\n",
       "    .dataframe thead th {\n",
       "        text-align: right;\n",
       "    }\n",
       "</style>\n",
       "<table border=\"1\" class=\"dataframe\">\n",
       "  <thead>\n",
       "    <tr style=\"text-align: right;\">\n",
       "      <th></th>\n",
       "      <th>quantity tons</th>\n",
       "      <th>customer</th>\n",
       "      <th>country</th>\n",
       "      <th>status</th>\n",
       "      <th>item type</th>\n",
       "      <th>application</th>\n",
       "      <th>thickness</th>\n",
       "      <th>width</th>\n",
       "      <th>product_ref</th>\n",
       "      <th>selling_price</th>\n",
       "      <th>overall_month</th>\n",
       "      <th>overall_year</th>\n",
       "    </tr>\n",
       "  </thead>\n",
       "  <tbody>\n",
       "    <tr>\n",
       "      <th>0</th>\n",
       "      <td>54.151139</td>\n",
       "      <td>17.221905</td>\n",
       "      <td>3.332205</td>\n",
       "      <td>1</td>\n",
       "      <td>0</td>\n",
       "      <td>2.302585</td>\n",
       "      <td>0.693147</td>\n",
       "      <td>38.729833</td>\n",
       "      <td>21.236568</td>\n",
       "      <td>854.00</td>\n",
       "      <td>3</td>\n",
       "      <td>0</td>\n",
       "    </tr>\n",
       "    <tr>\n",
       "      <th>1</th>\n",
       "      <td>151.450519</td>\n",
       "      <td>17.223450</td>\n",
       "      <td>3.218876</td>\n",
       "      <td>1</td>\n",
       "      <td>0</td>\n",
       "      <td>3.713572</td>\n",
       "      <td>-0.223144</td>\n",
       "      <td>34.785054</td>\n",
       "      <td>21.235312</td>\n",
       "      <td>1047.00</td>\n",
       "      <td>0</td>\n",
       "      <td>0</td>\n",
       "    </tr>\n",
       "    <tr>\n",
       "      <th>2</th>\n",
       "      <td>151.450519</td>\n",
       "      <td>17.221827</td>\n",
       "      <td>3.401197</td>\n",
       "      <td>1</td>\n",
       "      <td>1</td>\n",
       "      <td>3.332205</td>\n",
       "      <td>-0.967584</td>\n",
       "      <td>30.854497</td>\n",
       "      <td>13.350896</td>\n",
       "      <td>644.33</td>\n",
       "      <td>3</td>\n",
       "      <td>0</td>\n",
       "    </tr>\n",
       "    <tr>\n",
       "      <th>3</th>\n",
       "      <td>151.450519</td>\n",
       "      <td>17.228293</td>\n",
       "      <td>3.465736</td>\n",
       "      <td>1</td>\n",
       "      <td>2</td>\n",
       "      <td>4.077537</td>\n",
       "      <td>0.832909</td>\n",
       "      <td>36.290495</td>\n",
       "      <td>21.235312</td>\n",
       "      <td>768.00</td>\n",
       "      <td>3</td>\n",
       "      <td>0</td>\n",
       "    </tr>\n",
       "    <tr>\n",
       "      <th>4</th>\n",
       "      <td>151.450519</td>\n",
       "      <td>17.223735</td>\n",
       "      <td>3.332205</td>\n",
       "      <td>1</td>\n",
       "      <td>0</td>\n",
       "      <td>2.302585</td>\n",
       "      <td>1.386294</td>\n",
       "      <td>44.497191</td>\n",
       "      <td>13.370262</td>\n",
       "      <td>577.00</td>\n",
       "      <td>1</td>\n",
       "      <td>0</td>\n",
       "    </tr>\n",
       "  </tbody>\n",
       "</table>\n",
       "</div>"
      ],
      "text/plain": [
       "   quantity tons   customer   country  status  item type  application  \\\n",
       "0      54.151139  17.221905  3.332205       1          0     2.302585   \n",
       "1     151.450519  17.223450  3.218876       1          0     3.713572   \n",
       "2     151.450519  17.221827  3.401197       1          1     3.332205   \n",
       "3     151.450519  17.228293  3.465736       1          2     4.077537   \n",
       "4     151.450519  17.223735  3.332205       1          0     2.302585   \n",
       "\n",
       "   thickness      width  product_ref  selling_price  overall_month  \\\n",
       "0   0.693147  38.729833    21.236568         854.00              3   \n",
       "1  -0.223144  34.785054    21.235312        1047.00              0   \n",
       "2  -0.967584  30.854497    13.350896         644.33              3   \n",
       "3   0.832909  36.290495    21.235312         768.00              3   \n",
       "4   1.386294  44.497191    13.370262         577.00              1   \n",
       "\n",
       "   overall_year  \n",
       "0             0  \n",
       "1             0  \n",
       "2             0  \n",
       "3             0  \n",
       "4             0  "
      ]
     },
     "execution_count": 61,
     "metadata": {},
     "output_type": "execute_result"
    }
   ],
   "source": [
    "df.head()"
   ]
  },
  {
   "cell_type": "markdown",
   "id": "a04c8a76",
   "metadata": {},
   "source": [
    "### Split the Data"
   ]
  },
  {
   "cell_type": "code",
   "execution_count": 62,
   "id": "f9bd1b15",
   "metadata": {},
   "outputs": [],
   "source": [
    "from sklearn.model_selection import train_test_split\n",
    "from sklearn.preprocessing import StandardScaler"
   ]
  },
  {
   "cell_type": "code",
   "execution_count": 63,
   "id": "1c353d79",
   "metadata": {},
   "outputs": [],
   "source": [
    "x=df[['quantity tons','customer','country','status','item type','application','thickness','width','product_ref','overall_month','overall_year']]\n",
    "y=df['selling_price']"
   ]
  },
  {
   "cell_type": "code",
   "execution_count": 64,
   "id": "bb1f0170",
   "metadata": {},
   "outputs": [],
   "source": [
    "x_train,x_test,y_train,y_test=train_test_split(x,y,test_size=0.3)"
   ]
  },
  {
   "cell_type": "markdown",
   "id": "72c20705",
   "metadata": {},
   "source": [
    "### Scaling"
   ]
  },
  {
   "cell_type": "code",
   "execution_count": 65,
   "id": "f753944a",
   "metadata": {},
   "outputs": [],
   "source": [
    "scaler=StandardScaler()\n",
    "scaler.fit(x_train)\n",
    "x_train=scaler.transform(x_train)\n",
    "x_test=scaler.transform(x_test)"
   ]
  },
  {
   "cell_type": "markdown",
   "id": "affff513",
   "metadata": {},
   "source": [
    "### Model Creation"
   ]
  },
  {
   "cell_type": "markdown",
   "id": "9f1abb55",
   "metadata": {},
   "source": [
    "### Regression Problem"
   ]
  },
  {
   "cell_type": "code",
   "execution_count": 66,
   "id": "6eb7d30d",
   "metadata": {},
   "outputs": [],
   "source": [
    "from sklearn.linear_model import LinearRegression,LogisticRegression\n",
    "from sklearn.tree import DecisionTreeRegressor,DecisionTreeClassifier\n",
    "from sklearn.neighbors import KNeighborsRegressor,KNeighborsClassifier\n",
    "from sklearn.svm import SVR\n",
    "from sklearn.ensemble import RandomForestRegressor,GradientBoostingRegressor,AdaBoostRegressor,RandomForestClassifier,GradientBoostingClassifier,AdaBoostClassifier,ExtraTreesRegressor,ExtraTreesClassifier\n",
    "from xgboost import XGBRegressor,XGBClassifier\n",
    "from sklearn.metrics import r2_score,mean_absolute_error,mean_squared_error,precision_score,recall_score,precision_score,recall_score,f1_score,accuracy_score\n",
    "from sklearn.model_selection import cross_val_score,RandomizedSearchCV"
   ]
  },
  {
   "cell_type": "code",
   "execution_count": 67,
   "id": "5593ffac",
   "metadata": {
    "scrolled": true
   },
   "outputs": [
    {
     "name": "stdout",
     "output_type": "stream",
     "text": [
      "R2 Score : 0.3959044823537021\n",
      "MSE : 22904.524775929192\n",
      "MAE : 122.18060645846067\n"
     ]
    }
   ],
   "source": [
    "# Linear Regression \n",
    "\n",
    "lr=LinearRegression()\n",
    "lr.fit(x_train,y_train)\n",
    "y_pred=lr.predict(x_test)\n",
    "print('R2 Score :',r2_score(y_test,y_pred))\n",
    "print('MSE :',mean_squared_error(y_test,y_pred))\n",
    "print('MAE :',mean_absolute_error(y_test,y_pred))\n"
   ]
  },
  {
   "cell_type": "code",
   "execution_count": 68,
   "id": "21c32adf",
   "metadata": {
    "scrolled": true
   },
   "outputs": [
    {
     "name": "stdout",
     "output_type": "stream",
     "text": [
      "R2 Score : 0.7838524228526417\n",
      "MSE : 8195.32241410776\n",
      "MAE : 51.14494877368026\n"
     ]
    }
   ],
   "source": [
    "# DT \n",
    "\n",
    "dt=DecisionTreeRegressor()\n",
    "dt.fit(x_train,y_train)\n",
    "y_pred=dt.predict(x_test)\n",
    "print('R2 Score :',r2_score(y_test,y_pred))\n",
    "print('MSE :',mean_squared_error(y_test,y_pred))\n",
    "print('MAE :',mean_absolute_error(y_test,y_pred))"
   ]
  },
  {
   "cell_type": "code",
   "execution_count": 528,
   "id": "49ad1f5a",
   "metadata": {
    "scrolled": true
   },
   "outputs": [
    {
     "name": "stdout",
     "output_type": "stream",
     "text": [
      "R2 Score : 0.7339452513137741\n",
      "MSE : 10068.898335435699\n",
      "MAE : 68.26213103784455\n"
     ]
    }
   ],
   "source": [
    "# KNN \n",
    "\n",
    "knn=KNeighborsRegressor(n_neighbors=5)\n",
    "knn.fit(x_train,y_train)\n",
    "y_pred=knn.predict(x_test)\n",
    "print('R2 Score :',r2_score(y_test,y_pred))\n",
    "print('MSE :',mean_squared_error(y_test,y_pred))\n",
    "print('MAE :',mean_absolute_error(y_test,y_pred))"
   ]
  },
  {
   "cell_type": "code",
   "execution_count": 69,
   "id": "fb52f1c8",
   "metadata": {
    "scrolled": true
   },
   "outputs": [
    {
     "name": "stdout",
     "output_type": "stream",
     "text": [
      "R2 Score : 0.8708967908208397\n",
      "MSE : 4895.000156295511\n",
      "MAE : 43.67622741331492\n"
     ]
    }
   ],
   "source": [
    "# Random Forest \n",
    "\n",
    "rf=RandomForestRegressor()\n",
    "rf.fit(x_train,y_train)\n",
    "y_pred=rf.predict(x_test)\n",
    "print('R2 Score :',r2_score(y_test,y_pred))\n",
    "print('MSE :',mean_squared_error(y_test,y_pred))\n",
    "print('MAE :',mean_absolute_error(y_test,y_pred))"
   ]
  },
  {
   "cell_type": "code",
   "execution_count": 530,
   "id": "cb400334",
   "metadata": {
    "scrolled": true
   },
   "outputs": [
    {
     "name": "stdout",
     "output_type": "stream",
     "text": [
      "R2 Score : 0.7232042517173627\n",
      "MSE : 10475.393740953792\n",
      "MAE : 78.06282267958989\n"
     ]
    }
   ],
   "source": [
    "# Gradient Boost \n",
    "\n",
    "gb=GradientBoostingRegressor(n_estimators=150)\n",
    "gb.fit(x_train,y_train)\n",
    "y_pred=gb.predict(x_test)\n",
    "print('R2 Score :',r2_score(y_test,y_pred))\n",
    "print('MSE :',mean_squared_error(y_test,y_pred))\n",
    "print('MAE :',mean_absolute_error(y_test,y_pred))"
   ]
  },
  {
   "cell_type": "code",
   "execution_count": 531,
   "id": "01476afc",
   "metadata": {
    "scrolled": false
   },
   "outputs": [
    {
     "name": "stdout",
     "output_type": "stream",
     "text": [
      "R2 Score : 0.8320764236880855\n",
      "MSE : 6355.103324998389\n",
      "MAE : 57.66507808304949\n"
     ]
    }
   ],
   "source": [
    "# XGBoost \n",
    "\n",
    "xbg=XGBRegressor()\n",
    "xbg.fit(x_train,y_train)\n",
    "y_pred=xbg.predict(x_test)\n",
    "print('R2 Score :',r2_score(y_test,y_pred))\n",
    "print('MSE :',mean_squared_error(y_test,y_pred))\n",
    "print('MAE :',mean_absolute_error(y_test,y_pred))"
   ]
  },
  {
   "cell_type": "code",
   "execution_count": 532,
   "id": "ad59f52b",
   "metadata": {},
   "outputs": [
    {
     "name": "stdout",
     "output_type": "stream",
     "text": [
      "R2 Score : 0.8558752024312841\n",
      "MSE : 5454.433501001369\n",
      "MAE : 44.32276455193777\n"
     ]
    }
   ],
   "source": [
    "# Extra Tree\n",
    "\n",
    "extra_tree_model = ExtraTreesRegressor(n_estimators = 100,\n",
    "          criterion ='squared_error', max_features = \"auto\")\n",
    "extra_tree_model.fit(x_train,y_train)\n",
    "y_pred=extra_tree_model.predict(x_test)\n",
    "print('R2 Score :',r2_score(y_test,y_pred))\n",
    "print('MSE :',mean_squared_error(y_test,y_pred))\n",
    "print('MAE :',mean_absolute_error(y_test,y_pred))"
   ]
  },
  {
   "cell_type": "markdown",
   "id": "18c3c77e",
   "metadata": {},
   "source": [
    "### Hyper Prameter Tuning"
   ]
  },
  {
   "cell_type": "code",
   "execution_count": 533,
   "id": "0cad1f9c",
   "metadata": {
    "scrolled": true
   },
   "outputs": [
    {
     "name": "stdout",
     "output_type": "stream",
     "text": [
      "R2 Score : 0.8581307101136221\n",
      "MSE : 5369.073334868648\n",
      "MAE : 51.40623275698684\n"
     ]
    }
   ],
   "source": [
    "# XGBoost 52\n",
    "\n",
    "xbg=XGBRegressor(max_depth=8,n_estimators=100)\n",
    "xbg.fit(x_train,y_train)\n",
    "y_pred=xbg.predict(x_test)\n",
    "print('R2 Score :',r2_score(y_test,y_pred))\n",
    "print('MSE :',mean_squared_error(y_test,y_pred))\n",
    "print('MAE :',mean_absolute_error(y_test,y_pred))"
   ]
  },
  {
   "cell_type": "code",
   "execution_count": null,
   "id": "e2a942c3",
   "metadata": {},
   "outputs": [],
   "source": [
    "'''\n",
    "{'n_estimators': 200,\n",
    " 'min_samples_leaf': 2,\n",
    " 'max_features': 'log2',\n",
    " 'max_depth': 20}\n",
    "'''"
   ]
  },
  {
   "cell_type": "code",
   "execution_count": 442,
   "id": "6cee71c2",
   "metadata": {
    "scrolled": true
   },
   "outputs": [
    {
     "name": "stdout",
     "output_type": "stream",
     "text": [
      "R2 Score : 0.7285157551654363\n",
      "MSE : 10369.042727761698\n",
      "MAE : 76.42683959074562\n"
     ]
    }
   ],
   "source": [
    "rf=RandomForestRegressor(n_estimators=200,max_depth=8)\n",
    "rf.fit(x_train,y_train)\n",
    "y_pred=rf.predict(x_test)\n",
    "print('R2 Score :',r2_score(y_test,y_pred))\n",
    "print('MSE :',mean_squared_error(y_test,y_pred))\n",
    "print('MAE :',mean_absolute_error(y_test,y_pred))"
   ]
  },
  {
   "cell_type": "code",
   "execution_count": 73,
   "id": "290ed5d0",
   "metadata": {},
   "outputs": [
    {
     "data": {
      "text/plain": [
       "array([1007.26])"
      ]
     },
     "execution_count": 73,
     "metadata": {},
     "output_type": "execute_result"
    }
   ],
   "source": [
    "rf.predict([[54.151139,np.log(30156308.0),np.log(28),1,0,np.log(10),np.log(2),np.log(1500),np.log(1670798778),3,0]])"
   ]
  },
  {
   "cell_type": "code",
   "execution_count": 74,
   "id": "0b422e6e",
   "metadata": {},
   "outputs": [
    {
     "data": {
      "text/plain": [
       "881.9"
      ]
     },
     "execution_count": 74,
     "metadata": {},
     "output_type": "execute_result"
    }
   ],
   "source": [
    "rf.predict([[151.450519,17.223450,3.218876,1,0,3.713572,-0.223144,34.785054,21.235312,0,0]])[0]\n",
    "# 'quantity tons','customer','country','status','item type','application','thickness','width','product_ref','overall_month','overall_year'"
   ]
  },
  {
   "cell_type": "markdown",
   "id": "35f95c07",
   "metadata": {},
   "source": [
    "### Pickle"
   ]
  },
  {
   "cell_type": "code",
   "execution_count": 75,
   "id": "315eb96b",
   "metadata": {},
   "outputs": [],
   "source": [
    "import pickle"
   ]
  },
  {
   "cell_type": "code",
   "execution_count": 76,
   "id": "5fca6333",
   "metadata": {},
   "outputs": [],
   "source": [
    "model=pickle.dump(rf,open('model.pkl','wb'))\n",
    "scale=pickle.dump(scaler,open('scale.pkl','wb'))"
   ]
  },
  {
   "cell_type": "code",
   "execution_count": 70,
   "id": "d8889161",
   "metadata": {},
   "outputs": [
    {
     "data": {
      "text/html": [
       "<div>\n",
       "<style scoped>\n",
       "    .dataframe tbody tr th:only-of-type {\n",
       "        vertical-align: middle;\n",
       "    }\n",
       "\n",
       "    .dataframe tbody tr th {\n",
       "        vertical-align: top;\n",
       "    }\n",
       "\n",
       "    .dataframe thead th {\n",
       "        text-align: right;\n",
       "    }\n",
       "</style>\n",
       "<table border=\"1\" class=\"dataframe\">\n",
       "  <thead>\n",
       "    <tr style=\"text-align: right;\">\n",
       "      <th></th>\n",
       "      <th>quantity tons</th>\n",
       "      <th>customer</th>\n",
       "      <th>country</th>\n",
       "      <th>status</th>\n",
       "      <th>item type</th>\n",
       "      <th>application</th>\n",
       "      <th>thickness</th>\n",
       "      <th>width</th>\n",
       "      <th>product_ref</th>\n",
       "      <th>selling_price</th>\n",
       "      <th>overall_month</th>\n",
       "      <th>overall_year</th>\n",
       "    </tr>\n",
       "  </thead>\n",
       "  <tbody>\n",
       "    <tr>\n",
       "      <th>0</th>\n",
       "      <td>54.151139</td>\n",
       "      <td>17.221905</td>\n",
       "      <td>3.332205</td>\n",
       "      <td>1</td>\n",
       "      <td>0</td>\n",
       "      <td>2.302585</td>\n",
       "      <td>0.693147</td>\n",
       "      <td>38.729833</td>\n",
       "      <td>21.236568</td>\n",
       "      <td>854.00</td>\n",
       "      <td>3</td>\n",
       "      <td>0</td>\n",
       "    </tr>\n",
       "    <tr>\n",
       "      <th>1</th>\n",
       "      <td>151.450519</td>\n",
       "      <td>17.223450</td>\n",
       "      <td>3.218876</td>\n",
       "      <td>1</td>\n",
       "      <td>0</td>\n",
       "      <td>3.713572</td>\n",
       "      <td>-0.223144</td>\n",
       "      <td>34.785054</td>\n",
       "      <td>21.235312</td>\n",
       "      <td>1047.00</td>\n",
       "      <td>0</td>\n",
       "      <td>0</td>\n",
       "    </tr>\n",
       "    <tr>\n",
       "      <th>2</th>\n",
       "      <td>151.450519</td>\n",
       "      <td>17.221827</td>\n",
       "      <td>3.401197</td>\n",
       "      <td>1</td>\n",
       "      <td>1</td>\n",
       "      <td>3.332205</td>\n",
       "      <td>-0.967584</td>\n",
       "      <td>30.854497</td>\n",
       "      <td>13.350896</td>\n",
       "      <td>644.33</td>\n",
       "      <td>3</td>\n",
       "      <td>0</td>\n",
       "    </tr>\n",
       "    <tr>\n",
       "      <th>3</th>\n",
       "      <td>151.450519</td>\n",
       "      <td>17.228293</td>\n",
       "      <td>3.465736</td>\n",
       "      <td>1</td>\n",
       "      <td>2</td>\n",
       "      <td>4.077537</td>\n",
       "      <td>0.832909</td>\n",
       "      <td>36.290495</td>\n",
       "      <td>21.235312</td>\n",
       "      <td>768.00</td>\n",
       "      <td>3</td>\n",
       "      <td>0</td>\n",
       "    </tr>\n",
       "    <tr>\n",
       "      <th>4</th>\n",
       "      <td>151.450519</td>\n",
       "      <td>17.223735</td>\n",
       "      <td>3.332205</td>\n",
       "      <td>1</td>\n",
       "      <td>0</td>\n",
       "      <td>2.302585</td>\n",
       "      <td>1.386294</td>\n",
       "      <td>44.497191</td>\n",
       "      <td>13.370262</td>\n",
       "      <td>577.00</td>\n",
       "      <td>1</td>\n",
       "      <td>0</td>\n",
       "    </tr>\n",
       "  </tbody>\n",
       "</table>\n",
       "</div>"
      ],
      "text/plain": [
       "   quantity tons   customer   country  status  item type  application  \\\n",
       "0      54.151139  17.221905  3.332205       1          0     2.302585   \n",
       "1     151.450519  17.223450  3.218876       1          0     3.713572   \n",
       "2     151.450519  17.221827  3.401197       1          1     3.332205   \n",
       "3     151.450519  17.228293  3.465736       1          2     4.077537   \n",
       "4     151.450519  17.223735  3.332205       1          0     2.302585   \n",
       "\n",
       "   thickness      width  product_ref  selling_price  overall_month  \\\n",
       "0   0.693147  38.729833    21.236568         854.00              3   \n",
       "1  -0.223144  34.785054    21.235312        1047.00              0   \n",
       "2  -0.967584  30.854497    13.350896         644.33              3   \n",
       "3   0.832909  36.290495    21.235312         768.00              3   \n",
       "4   1.386294  44.497191    13.370262         577.00              1   \n",
       "\n",
       "   overall_year  \n",
       "0             0  \n",
       "1             0  \n",
       "2             0  \n",
       "3             0  \n",
       "4             0  "
      ]
     },
     "execution_count": 70,
     "metadata": {},
     "output_type": "execute_result"
    }
   ],
   "source": [
    "df.head()"
   ]
  },
  {
   "cell_type": "markdown",
   "id": "24d0628f",
   "metadata": {},
   "source": [
    "### Classification Problem"
   ]
  },
  {
   "cell_type": "code",
   "execution_count": 534,
   "id": "7dac8acd",
   "metadata": {
    "scrolled": true
   },
   "outputs": [
    {
     "data": {
      "image/png": "[encoded data removed]",
      "text/plain": [
       "<Figure size 432x288 with 1 Axes>"
      ]
     },
     "metadata": {
      "needs_background": "light"
     },
     "output_type": "display_data"
    }
   ],
   "source": [
    "# It's imbalance dataset\n",
    "sns.countplot(df['status'])\n",
    "plt.show()"
   ]
  },
  {
   "cell_type": "code",
   "execution_count": 535,
   "id": "57a27dfe",
   "metadata": {},
   "outputs": [],
   "source": [
    "x=df.drop(columns=['status'])\n",
    "y=df['status']"
   ]
  },
  {
   "cell_type": "code",
   "execution_count": 536,
   "id": "4e19fbd4",
   "metadata": {},
   "outputs": [
    {
     "data": {
      "text/plain": [
       "1    116008\n",
       "0     34432\n",
       "Name: status, dtype: int64"
      ]
     },
     "execution_count": 536,
     "metadata": {},
     "output_type": "execute_result"
    }
   ],
   "source": [
    "y.value_counts()"
   ]
  },
  {
   "cell_type": "markdown",
   "id": "41b286ff",
   "metadata": {},
   "source": [
    "### Imbalance to Balance Dataset"
   ]
  },
  {
   "cell_type": "markdown",
   "id": "adf864bf",
   "metadata": {},
   "source": [
    "#### Over Sampling "
   ]
  },
  {
   "cell_type": "code",
   "execution_count": 537,
   "id": "72814504",
   "metadata": {},
   "outputs": [],
   "source": [
    "from imblearn.over_sampling import SMOTE"
   ]
  },
  {
   "cell_type": "code",
   "execution_count": 538,
   "id": "22ead645",
   "metadata": {},
   "outputs": [],
   "source": [
    "smote=SMOTE(sampling_strategy='minority')\n",
    "x_sm,y_sm=smote.fit_resample(x,y)"
   ]
  },
  {
   "cell_type": "code",
   "execution_count": 539,
   "id": "2624822f",
   "metadata": {
    "scrolled": true
   },
   "outputs": [
    {
     "data": {
      "image/png": "[encoded data removed]",
      "text/plain": [
       "<Figure size 432x288 with 1 Axes>"
      ]
     },
     "metadata": {
      "needs_background": "light"
     },
     "output_type": "display_data"
    }
   ],
   "source": [
    "sns.countplot(y_sm)\n",
    "plt.show()"
   ]
  },
  {
   "cell_type": "code",
   "execution_count": 540,
   "id": "b4518733",
   "metadata": {},
   "outputs": [],
   "source": [
    "x_train,x_test,y_train,y_test=train_test_split(x_sm,y_sm,test_size=0.3)"
   ]
  },
  {
   "cell_type": "code",
   "execution_count": 541,
   "id": "4956bbeb",
   "metadata": {},
   "outputs": [],
   "source": [
    "scaler=StandardScaler()\n",
    "scaler.fit(x_train)\n",
    "x_train=scaler.transform(x_train)\n",
    "x_test=scaler.transform(x_test)"
   ]
  },
  {
   "cell_type": "code",
   "execution_count": 542,
   "id": "4ed409d9",
   "metadata": {},
   "outputs": [
    {
     "name": "stdout",
     "output_type": "stream",
     "text": [
      "F1 Score : 0.6643304350376095\n",
      "Precision : 0.6784869268321903\n",
      "Recall : 0.6507526140411353\n"
     ]
    }
   ],
   "source": [
    "# Logistic Regression 69\n",
    "\n",
    "lr=LogisticRegression()\n",
    "lr.fit(x_train,y_train)\n",
    "y_pred=lr.predict(x_test)\n",
    "print('F1 Score :',f1_score(y_test,y_pred))\n",
    "print('Precision :',precision_score(y_test,y_pred))\n",
    "print('Recall :',recall_score(y_test,y_pred))"
   ]
  },
  {
   "cell_type": "code",
   "execution_count": 543,
   "id": "4daaf773",
   "metadata": {},
   "outputs": [
    {
     "name": "stdout",
     "output_type": "stream",
     "text": [
      "F1 Score : 0.9508239002722453\n",
      "Precision : 0.9485676711075534\n",
      "Recall : 0.9530908881994714\n"
     ]
    }
   ],
   "source": [
    "# Decision Tree 93\n",
    "\n",
    "dt=DecisionTreeClassifier()\n",
    "dt.fit(x_train,y_train)\n",
    "y_pred=dt.predict(x_test)\n",
    "print('F1 Score :',f1_score(y_test,y_pred))\n",
    "print('Precision :',precision_score(y_test,y_pred))\n",
    "print('Recall :',recall_score(y_test,y_pred))"
   ]
  },
  {
   "cell_type": "code",
   "execution_count": 544,
   "id": "ae421784",
   "metadata": {},
   "outputs": [
    {
     "name": "stdout",
     "output_type": "stream",
     "text": [
      "F1 Score : 0.9148573611070306\n",
      "Precision : 0.9361734110997535\n",
      "Recall : 0.8944904056072619\n"
     ]
    }
   ],
   "source": [
    "# KNN 89\n",
    "\n",
    "knn=KNeighborsClassifier()\n",
    "knn.fit(x_train,y_train)\n",
    "y_pred=knn.predict(x_test)\n",
    "print('F1 Score :',f1_score(y_test,y_pred))\n",
    "print('Precision :',precision_score(y_test,y_pred))\n",
    "print('Recall :',recall_score(y_test,y_pred))"
   ]
  },
  {
   "cell_type": "code",
   "execution_count": 545,
   "id": "7e54b745",
   "metadata": {},
   "outputs": [
    {
     "name": "stdout",
     "output_type": "stream",
     "text": [
      "F1 Score : 0.9711224696063993\n",
      "Precision : 0.976281716309586\n",
      "Recall : 0.9660174652418706\n"
     ]
    }
   ],
   "source": [
    "# Random Forest  95\n",
    "\n",
    "rf=RandomForestClassifier()\n",
    "rf.fit(x_train,y_train)\n",
    "y_pred=rf.predict(x_test)\n",
    "print('F1 Score :',f1_score(y_test,y_pred))\n",
    "print('Precision :',precision_score(y_test,y_pred))\n",
    "print('Recall :',recall_score(y_test,y_pred))"
   ]
  },
  {
   "cell_type": "code",
   "execution_count": 546,
   "id": "6c961245",
   "metadata": {},
   "outputs": [
    {
     "name": "stdout",
     "output_type": "stream",
     "text": [
      "F1 Score : 0.8352761707394295\n",
      "Precision : 0.8369383399665455\n",
      "Recall : 0.8336205906009422\n"
     ]
    }
   ],
   "source": [
    "# Gradient Boost 81\n",
    "\n",
    "gb=GradientBoostingClassifier()\n",
    "gb.fit(x_train,y_train)\n",
    "y_pred=gb.predict(x_test)\n",
    "print('F1 Score :',f1_score(y_test,y_pred))\n",
    "print('Precision :',precision_score(y_test,y_pred))\n",
    "print('Recall :',recall_score(y_test,y_pred))"
   ]
  },
  {
   "cell_type": "code",
   "execution_count": 547,
   "id": "1c06619b",
   "metadata": {},
   "outputs": [
    {
     "name": "stdout",
     "output_type": "stream",
     "text": [
      "F1 Score : 0.7947887425322105\n",
      "Precision : 0.7966121259342626\n",
      "Recall : 0.7929736872342871\n"
     ]
    }
   ],
   "source": [
    "# Adaboost 78\n",
    "\n",
    "adb=AdaBoostClassifier()\n",
    "adb.fit(x_train,y_train)\n",
    "y_pred=adb.predict(x_test)\n",
    "print('F1 Score :',f1_score(y_test,y_pred))\n",
    "print('Precision :',precision_score(y_test,y_pred))\n",
    "print('Recall :',recall_score(y_test,y_pred))"
   ]
  },
  {
   "cell_type": "code",
   "execution_count": 548,
   "id": "014d3373",
   "metadata": {
    "scrolled": true
   },
   "outputs": [
    {
     "name": "stdout",
     "output_type": "stream",
     "text": [
      "F1 Score : 0.9396098218253229\n",
      "Precision : 0.9377414094017339\n",
      "Recall : 0.9414856945880731\n"
     ]
    }
   ],
   "source": [
    "# XGBoost 92\n",
    "\n",
    "xgb=XGBClassifier()\n",
    "xgb.fit(x_train,y_train)\n",
    "y_pred=xgb.predict(x_test)\n",
    "print('F1 Score :',f1_score(y_test,y_pred))\n",
    "print('Precision :',precision_score(y_test,y_pred))\n",
    "print('Recall :',recall_score(y_test,y_pred))"
   ]
  }
 ],
 "metadata": {
  "kernelspec": {
   "display_name": "Python 3 (ipykernel)",
   "language": "python",
   "name": "python3"
  },
  "language_info": {
   "codemirror_mode": {
    "name": "ipython",
    "version": 3
   },
   "file_extension": ".py",
   "mimetype": "text/x-python",
   "name": "python",
   "nbconvert_exporter": "python",
   "pygments_lexer": "ipython3",
   "version": "3.9.12"
  }
 },
 "nbformat": 4,
 "nbformat_minor": 5
}
